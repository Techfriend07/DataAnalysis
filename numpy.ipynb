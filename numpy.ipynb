{
 "cells": [
  {
   "cell_type": "code",
   "execution_count": null,
   "metadata": {},
   "outputs": [],
   "source": [
    "# NUMPY : NUMERICAL PYTHON."
   ]
  },
  {
   "cell_type": "code",
   "execution_count": null,
   "metadata": {},
   "outputs": [],
   "source": [
    "# performane diffrance between numpy array and python list:"
   ]
  },
  {
   "cell_type": "code",
   "execution_count": 1,
   "metadata": {},
   "outputs": [],
   "source": [
    "import numpy as np"
   ]
  },
  {
   "cell_type": "code",
   "execution_count": 3,
   "metadata": {},
   "outputs": [],
   "source": [
    "my_arr = np.arange(1000000)"
   ]
  },
  {
   "cell_type": "code",
   "execution_count": 4,
   "metadata": {},
   "outputs": [],
   "source": [
    "my_list = list(range(1000000))"
   ]
  },
  {
   "cell_type": "code",
   "execution_count": 5,
   "metadata": {},
   "outputs": [
    {
     "name": "stdout",
     "output_type": "stream",
     "text": [
      "Wall time: 49.1 ms\n"
     ]
    }
   ],
   "source": [
    "%time for _ in range(10): my_arr2 = my_arr * 2"
   ]
  },
  {
   "cell_type": "code",
   "execution_count": 7,
   "metadata": {},
   "outputs": [
    {
     "name": "stdout",
     "output_type": "stream",
     "text": [
      "Wall time: 1.53 s\n"
     ]
    }
   ],
   "source": [
    "%time for _ in range(10): my_list2 = [x * 2 for x in my_list]"
   ]
  },
  {
   "cell_type": "code",
   "execution_count": null,
   "metadata": {},
   "outputs": [],
   "source": [
    "# generating a small array of random data: and performing operations like add and multiply."
   ]
  },
  {
   "cell_type": "code",
   "execution_count": 8,
   "metadata": {},
   "outputs": [],
   "source": [
    "data = np.random.randn(2,3)"
   ]
  },
  {
   "cell_type": "code",
   "execution_count": 9,
   "metadata": {},
   "outputs": [
    {
     "data": {
      "text/plain": [
       "array([[ 0.12595301,  0.24668143,  0.92367999],\n",
       "       [-0.46841659, -1.04377014, -0.51649596]])"
      ]
     },
     "execution_count": 9,
     "metadata": {},
     "output_type": "execute_result"
    }
   ],
   "source": [
    "data"
   ]
  },
  {
   "cell_type": "code",
   "execution_count": 10,
   "metadata": {},
   "outputs": [
    {
     "data": {
      "text/plain": [
       "array([[  1.25953005,   2.46681428,   9.23679993],\n",
       "       [ -4.68416586, -10.43770141,  -5.16495963]])"
      ]
     },
     "execution_count": 10,
     "metadata": {},
     "output_type": "execute_result"
    }
   ],
   "source": [
    "data * 10"
   ]
  },
  {
   "cell_type": "code",
   "execution_count": 11,
   "metadata": {},
   "outputs": [],
   "source": [
    "data_2 = data + data"
   ]
  },
  {
   "cell_type": "code",
   "execution_count": 12,
   "metadata": {},
   "outputs": [
    {
     "data": {
      "text/plain": [
       "array([[ 0.25190601,  0.49336286,  1.84735999],\n",
       "       [-0.93683317, -2.08754028, -1.03299193]])"
      ]
     },
     "execution_count": 12,
     "metadata": {},
     "output_type": "execute_result"
    }
   ],
   "source": [
    "data_2"
   ]
  },
  {
   "cell_type": "code",
   "execution_count": 14,
   "metadata": {},
   "outputs": [
    {
     "data": {
      "text/plain": [
       "(2, 3)"
      ]
     },
     "execution_count": 14,
     "metadata": {},
     "output_type": "execute_result"
    }
   ],
   "source": [
    "data.shape"
   ]
  },
  {
   "cell_type": "code",
   "execution_count": 15,
   "metadata": {},
   "outputs": [
    {
     "data": {
      "text/plain": [
       "dtype('float64')"
      ]
     },
     "execution_count": 15,
     "metadata": {},
     "output_type": "execute_result"
    }
   ],
   "source": [
    "data.dtype"
   ]
  },
  {
   "cell_type": "code",
   "execution_count": null,
   "metadata": {},
   "outputs": [],
   "source": [
    "# creating ndarrays:"
   ]
  },
  {
   "cell_type": "code",
   "execution_count": 16,
   "metadata": {},
   "outputs": [],
   "source": [
    "data1 = [6,7,0,1,8]"
   ]
  },
  {
   "cell_type": "code",
   "execution_count": 22,
   "metadata": {},
   "outputs": [],
   "source": [
    "array1 = np.array(data1)"
   ]
  },
  {
   "cell_type": "code",
   "execution_count": 23,
   "metadata": {},
   "outputs": [
    {
     "data": {
      "text/plain": [
       "array([6. , 7.5, 0. , 1. , 8. ])"
      ]
     },
     "execution_count": 23,
     "metadata": {},
     "output_type": "execute_result"
    }
   ],
   "source": [
    "array1"
   ]
  },
  {
   "cell_type": "code",
   "execution_count": 26,
   "metadata": {},
   "outputs": [],
   "source": [
    "data2 = [[1,2,3],[4,5,6],[7,8,9]]"
   ]
  },
  {
   "cell_type": "code",
   "execution_count": 27,
   "metadata": {},
   "outputs": [],
   "source": [
    "arr2 = np.array(data2)"
   ]
  },
  {
   "cell_type": "code",
   "execution_count": 28,
   "metadata": {},
   "outputs": [
    {
     "data": {
      "text/plain": [
       "array([[1, 2, 3],\n",
       "       [4, 5, 6],\n",
       "       [7, 8, 9]])"
      ]
     },
     "execution_count": 28,
     "metadata": {},
     "output_type": "execute_result"
    }
   ],
   "source": [
    "arr2"
   ]
  },
  {
   "cell_type": "code",
   "execution_count": 29,
   "metadata": {},
   "outputs": [
    {
     "data": {
      "text/plain": [
       "2"
      ]
     },
     "execution_count": 29,
     "metadata": {},
     "output_type": "execute_result"
    }
   ],
   "source": [
    "arr2.ndim # it checks the dimensions of the array."
   ]
  },
  {
   "cell_type": "code",
   "execution_count": null,
   "metadata": {},
   "outputs": [],
   "source": [
    "# other ways of creating arrays."
   ]
  },
  {
   "cell_type": "code",
   "execution_count": 30,
   "metadata": {},
   "outputs": [
    {
     "data": {
      "text/plain": [
       "array([0., 0., 0., 0., 0., 0., 0., 0., 0., 0.])"
      ]
     },
     "execution_count": 30,
     "metadata": {},
     "output_type": "execute_result"
    }
   ],
   "source": [
    "np.zeros(10)   # it creats a array of zeros of element equal to the attribute passed in zeros()."
   ]
  },
  {
   "cell_type": "code",
   "execution_count": 34,
   "metadata": {},
   "outputs": [
    {
     "data": {
      "text/plain": [
       "array([[0., 0., 0., 0., 0., 0.],\n",
       "       [0., 0., 0., 0., 0., 0.],\n",
       "       [0., 0., 0., 0., 0., 0.]])"
      ]
     },
     "execution_count": 34,
     "metadata": {},
     "output_type": "execute_result"
    }
   ],
   "source": [
    "np.zeros((3,6))"
   ]
  },
  {
   "cell_type": "code",
   "execution_count": 37,
   "metadata": {},
   "outputs": [
    {
     "data": {
      "text/plain": [
       "array([[[1.11448025e-311, 2.47032823e-322],\n",
       "        [0.00000000e+000, 0.00000000e+000],\n",
       "        [0.00000000e+000, 1.31370903e-076]],\n",
       "\n",
       "       [[5.88732215e-091, 6.17156690e-042],\n",
       "        [2.34022833e-057, 1.67467190e-076],\n",
       "        [3.99910963e+252, 4.93432906e+257]]])"
      ]
     },
     "execution_count": 37,
     "metadata": {},
     "output_type": "execute_result"
    }
   ],
   "source": [
    "np.empty((2,3,2))  # it can return a garbage values."
   ]
  },
  {
   "cell_type": "code",
   "execution_count": 3,
   "metadata": {},
   "outputs": [
    {
     "data": {
      "text/plain": [
       "array([0, 1, 2, 3, 4, 5, 6, 7, 8, 9])"
      ]
     },
     "execution_count": 3,
     "metadata": {},
     "output_type": "execute_result"
    }
   ],
   "source": [
    "np.arange(10)  # it is like the range() function in list."
   ]
  },
  {
   "cell_type": "code",
   "execution_count": null,
   "metadata": {},
   "outputs": [],
   "source": [
    "# DATA TYPE IN ARRAYS :  TYPE CASTING IN ARRAYS:\n"
   ]
  },
  {
   "cell_type": "code",
   "execution_count": 4,
   "metadata": {},
   "outputs": [],
   "source": [
    "arr = np.array([1,2,3,4,5])"
   ]
  },
  {
   "cell_type": "code",
   "execution_count": 5,
   "metadata": {},
   "outputs": [
    {
     "data": {
      "text/plain": [
       "dtype('int32')"
      ]
     },
     "execution_count": 5,
     "metadata": {},
     "output_type": "execute_result"
    }
   ],
   "source": [
    "arr.dtype"
   ]
  },
  {
   "cell_type": "code",
   "execution_count": 6,
   "metadata": {},
   "outputs": [],
   "source": [
    "float_arr = arr.astype(np.float64)"
   ]
  },
  {
   "cell_type": "code",
   "execution_count": 7,
   "metadata": {},
   "outputs": [
    {
     "data": {
      "text/plain": [
       "dtype('float64')"
      ]
     },
     "execution_count": 7,
     "metadata": {},
     "output_type": "execute_result"
    }
   ],
   "source": [
    "float_arr.dtype"
   ]
  },
  {
   "cell_type": "code",
   "execution_count": null,
   "metadata": {},
   "outputs": [],
   "source": [
    "# like this we can convert one data type to another data type"
   ]
  },
  {
   "cell_type": "code",
   "execution_count": null,
   "metadata": {},
   "outputs": [],
   "source": [
    "# AIRTHMATIC WITH NUMPY ARRAYS:- it peerforms element wise operations:-"
   ]
  },
  {
   "cell_type": "code",
   "execution_count": 9,
   "metadata": {},
   "outputs": [],
   "source": [
    "arr = np.array([[1,2,3],[4,5,6]])"
   ]
  },
  {
   "cell_type": "code",
   "execution_count": 10,
   "metadata": {},
   "outputs": [
    {
     "data": {
      "text/plain": [
       "array([[1, 2, 3],\n",
       "       [4, 5, 6]])"
      ]
     },
     "execution_count": 10,
     "metadata": {},
     "output_type": "execute_result"
    }
   ],
   "source": [
    "arr"
   ]
  },
  {
   "cell_type": "code",
   "execution_count": 11,
   "metadata": {},
   "outputs": [
    {
     "data": {
      "text/plain": [
       "array([[ 1,  4,  9],\n",
       "       [16, 25, 36]])"
      ]
     },
     "execution_count": 11,
     "metadata": {},
     "output_type": "execute_result"
    }
   ],
   "source": [
    "arr *arr"
   ]
  },
  {
   "cell_type": "code",
   "execution_count": 12,
   "metadata": {},
   "outputs": [
    {
     "data": {
      "text/plain": [
       "array([[ 2,  4,  6],\n",
       "       [ 8, 10, 12]])"
      ]
     },
     "execution_count": 12,
     "metadata": {},
     "output_type": "execute_result"
    }
   ],
   "source": [
    "arr + arr"
   ]
  },
  {
   "cell_type": "code",
   "execution_count": 13,
   "metadata": {},
   "outputs": [
    {
     "data": {
      "text/plain": [
       "array([[0.5, 1. , 1.5],\n",
       "       [2. , 2.5, 3. ]])"
      ]
     },
     "execution_count": 13,
     "metadata": {},
     "output_type": "execute_result"
    }
   ],
   "source": [
    "arr * 0.5"
   ]
  },
  {
   "cell_type": "code",
   "execution_count": 14,
   "metadata": {},
   "outputs": [],
   "source": [
    "arr2 = np.array([[3,5,6],[1,2,3]])"
   ]
  },
  {
   "cell_type": "code",
   "execution_count": 15,
   "metadata": {},
   "outputs": [
    {
     "data": {
      "text/plain": [
       "array([[False, False, False],\n",
       "       [ True,  True,  True]])"
      ]
     },
     "execution_count": 15,
     "metadata": {},
     "output_type": "execute_result"
    }
   ],
   "source": [
    " arr > arr2  # comparison between two arrays give boolean value"
   ]
  },
  {
   "cell_type": "code",
   "execution_count": null,
   "metadata": {},
   "outputs": [],
   "source": [
    "# INDEXING AND SLICING OF ARRAYS:-"
   ]
  },
  {
   "cell_type": "code",
   "execution_count": 16,
   "metadata": {},
   "outputs": [],
   "source": [
    "arr = np.arange(10)"
   ]
  },
  {
   "cell_type": "code",
   "execution_count": 17,
   "metadata": {},
   "outputs": [
    {
     "data": {
      "text/plain": [
       "array([0, 1, 2, 3, 4, 5, 6, 7, 8, 9])"
      ]
     },
     "execution_count": 17,
     "metadata": {},
     "output_type": "execute_result"
    }
   ],
   "source": [
    "arr"
   ]
  },
  {
   "cell_type": "code",
   "execution_count": 18,
   "metadata": {},
   "outputs": [
    {
     "data": {
      "text/plain": [
       "array([5, 6, 7])"
      ]
     },
     "execution_count": 18,
     "metadata": {},
     "output_type": "execute_result"
    }
   ],
   "source": [
    "arr[5:8]"
   ]
  },
  {
   "cell_type": "code",
   "execution_count": 19,
   "metadata": {},
   "outputs": [],
   "source": [
    "arr[5:8] = 12"
   ]
  },
  {
   "cell_type": "code",
   "execution_count": 20,
   "metadata": {},
   "outputs": [
    {
     "data": {
      "text/plain": [
       "array([ 0,  1,  2,  3,  4, 12, 12, 12,  8,  9])"
      ]
     },
     "execution_count": 20,
     "metadata": {},
     "output_type": "execute_result"
    }
   ],
   "source": [
    "arr"
   ]
  },
  {
   "cell_type": "code",
   "execution_count": 21,
   "metadata": {},
   "outputs": [],
   "source": [
    "arr_slice = arr[5:8]"
   ]
  },
  {
   "cell_type": "code",
   "execution_count": 22,
   "metadata": {},
   "outputs": [
    {
     "data": {
      "text/plain": [
       "array([12, 12, 12])"
      ]
     },
     "execution_count": 22,
     "metadata": {},
     "output_type": "execute_result"
    }
   ],
   "source": [
    "arr_slice"
   ]
  },
  {
   "cell_type": "code",
   "execution_count": 23,
   "metadata": {},
   "outputs": [
    {
     "data": {
      "text/plain": [
       "12"
      ]
     },
     "execution_count": 23,
     "metadata": {},
     "output_type": "execute_result"
    }
   ],
   "source": [
    "arr_slice[1]"
   ]
  },
  {
   "cell_type": "code",
   "execution_count": 24,
   "metadata": {},
   "outputs": [],
   "source": [
    "arr_slice[:] = 64"
   ]
  },
  {
   "cell_type": "code",
   "execution_count": 25,
   "metadata": {},
   "outputs": [
    {
     "data": {
      "text/plain": [
       "array([ 0,  1,  2,  3,  4, 64, 64, 64,  8,  9])"
      ]
     },
     "execution_count": 25,
     "metadata": {},
     "output_type": "execute_result"
    }
   ],
   "source": [
    "arr"
   ]
  },
  {
   "cell_type": "code",
   "execution_count": 26,
   "metadata": {},
   "outputs": [],
   "source": [
    "arr2d = np.array([[1,2,3],[4,5,6],[7,8,9]])"
   ]
  },
  {
   "cell_type": "code",
   "execution_count": 27,
   "metadata": {},
   "outputs": [
    {
     "data": {
      "text/plain": [
       "array([[1, 2, 3],\n",
       "       [4, 5, 6],\n",
       "       [7, 8, 9]])"
      ]
     },
     "execution_count": 27,
     "metadata": {},
     "output_type": "execute_result"
    }
   ],
   "source": [
    "arr2d[:]"
   ]
  },
  {
   "cell_type": "code",
   "execution_count": 28,
   "metadata": {},
   "outputs": [
    {
     "data": {
      "text/plain": [
       "array([7, 8, 9])"
      ]
     },
     "execution_count": 28,
     "metadata": {},
     "output_type": "execute_result"
    }
   ],
   "source": [
    "arr2d[2]"
   ]
  },
  {
   "cell_type": "code",
   "execution_count": 29,
   "metadata": {},
   "outputs": [
    {
     "data": {
      "text/plain": [
       "9"
      ]
     },
     "execution_count": 29,
     "metadata": {},
     "output_type": "execute_result"
    }
   ],
   "source": [
    "arr2d[2,2]"
   ]
  },
  {
   "cell_type": "code",
   "execution_count": 30,
   "metadata": {},
   "outputs": [
    {
     "data": {
      "text/plain": [
       "1"
      ]
     },
     "execution_count": 30,
     "metadata": {},
     "output_type": "execute_result"
    }
   ],
   "source": [
    "arr2d[0,0]"
   ]
  },
  {
   "cell_type": "code",
   "execution_count": 31,
   "metadata": {},
   "outputs": [
    {
     "data": {
      "text/plain": [
       "array([[1, 2, 3],\n",
       "       [4, 5, 6]])"
      ]
     },
     "execution_count": 31,
     "metadata": {},
     "output_type": "execute_result"
    }
   ],
   "source": [
    "arr2d[0:2] # slicing of an array."
   ]
  },
  {
   "cell_type": "code",
   "execution_count": 32,
   "metadata": {},
   "outputs": [
    {
     "data": {
      "text/plain": [
       "array([2, 5])"
      ]
     },
     "execution_count": 32,
     "metadata": {},
     "output_type": "execute_result"
    }
   ],
   "source": [
    "arr2d[0:2,1]"
   ]
  },
  {
   "cell_type": "code",
   "execution_count": 33,
   "metadata": {},
   "outputs": [
    {
     "data": {
      "text/plain": [
       "array([[1],\n",
       "       [4]])"
      ]
     },
     "execution_count": 33,
     "metadata": {},
     "output_type": "execute_result"
    }
   ],
   "source": [
    "arr2d[0:2, : 1]"
   ]
  },
  {
   "cell_type": "code",
   "execution_count": null,
   "metadata": {},
   "outputs": [],
   "source": [
    "# 3D Array"
   ]
  },
  {
   "cell_type": "code",
   "execution_count": 34,
   "metadata": {},
   "outputs": [],
   "source": [
    "arr3d = np.array([[[1,2,3],[4,5,6]],[[7,8,9],[10,11,12]]])"
   ]
  },
  {
   "cell_type": "code",
   "execution_count": 35,
   "metadata": {},
   "outputs": [
    {
     "data": {
      "text/plain": [
       "array([[[ 1,  2,  3],\n",
       "        [ 4,  5,  6]],\n",
       "\n",
       "       [[ 7,  8,  9],\n",
       "        [10, 11, 12]]])"
      ]
     },
     "execution_count": 35,
     "metadata": {},
     "output_type": "execute_result"
    }
   ],
   "source": [
    "arr3d"
   ]
  },
  {
   "cell_type": "code",
   "execution_count": 36,
   "metadata": {},
   "outputs": [
    {
     "data": {
      "text/plain": [
       "array([[1, 2, 3],\n",
       "       [4, 5, 6]])"
      ]
     },
     "execution_count": 36,
     "metadata": {},
     "output_type": "execute_result"
    }
   ],
   "source": [
    "arr3d[0]"
   ]
  },
  {
   "cell_type": "raw",
   "metadata": {},
   "source": [
    "arr3d[1]"
   ]
  },
  {
   "cell_type": "code",
   "execution_count": 37,
   "metadata": {},
   "outputs": [
    {
     "data": {
      "text/plain": [
       "array([[ 7,  8,  9],\n",
       "       [10, 11, 12]])"
      ]
     },
     "execution_count": 37,
     "metadata": {},
     "output_type": "execute_result"
    }
   ],
   "source": [
    "arr3d[1]"
   ]
  },
  {
   "cell_type": "code",
   "execution_count": 38,
   "metadata": {},
   "outputs": [
    {
     "data": {
      "text/plain": [
       "array([10, 11, 12])"
      ]
     },
     "execution_count": 38,
     "metadata": {},
     "output_type": "execute_result"
    }
   ],
   "source": [
    "arr3d[1,1]"
   ]
  },
  {
   "cell_type": "code",
   "execution_count": 39,
   "metadata": {},
   "outputs": [
    {
     "data": {
      "text/plain": [
       "array([[[ 1,  2,  3],\n",
       "        [ 4,  5,  6]],\n",
       "\n",
       "       [[ 7,  8,  9],\n",
       "        [10, 11, 12]]])"
      ]
     },
     "execution_count": 39,
     "metadata": {},
     "output_type": "execute_result"
    }
   ],
   "source": [
    "arr3d[ : , : ]"
   ]
  },
  {
   "cell_type": "code",
   "execution_count": 40,
   "metadata": {},
   "outputs": [
    {
     "data": {
      "text/plain": [
       "array([[1, 2, 3],\n",
       "       [7, 8, 9]])"
      ]
     },
     "execution_count": 40,
     "metadata": {},
     "output_type": "execute_result"
    }
   ],
   "source": [
    "arr3d[ : , 0]"
   ]
  },
  {
   "cell_type": "code",
   "execution_count": 41,
   "metadata": {},
   "outputs": [
    {
     "data": {
      "text/plain": [
       "array([[[1]],\n",
       "\n",
       "       [[7]]])"
      ]
     },
     "execution_count": 41,
     "metadata": {},
     "output_type": "execute_result"
    }
   ],
   "source": [
    "arr3d[ : ,0:1,0:1]"
   ]
  },
  {
   "cell_type": "code",
   "execution_count": 42,
   "metadata": {},
   "outputs": [
    {
     "data": {
      "text/plain": [
       "array([[2],\n",
       "       [8]])"
      ]
     },
     "execution_count": 42,
     "metadata": {},
     "output_type": "execute_result"
    }
   ],
   "source": [
    "arr3d[ : ,0:1,1]"
   ]
  },
  {
   "cell_type": "markdown",
   "metadata": {},
   "source": [
    "# BOOLEAN INDEXING:-"
   ]
  },
  {
   "cell_type": "code",
   "execution_count": 3,
   "metadata": {},
   "outputs": [],
   "source": [
    "names = np.array(['bob','joe','will','bob','will','joe','joe'])"
   ]
  },
  {
   "cell_type": "code",
   "execution_count": 4,
   "metadata": {},
   "outputs": [],
   "source": [
    "data = np.random.randn(7,4)"
   ]
  },
  {
   "cell_type": "code",
   "execution_count": 5,
   "metadata": {},
   "outputs": [
    {
     "data": {
      "text/plain": [
       "array(['bob', 'joe', 'will', 'bob', 'will', 'joe', 'joe'], dtype='<U4')"
      ]
     },
     "execution_count": 5,
     "metadata": {},
     "output_type": "execute_result"
    }
   ],
   "source": [
    "names"
   ]
  },
  {
   "cell_type": "code",
   "execution_count": 6,
   "metadata": {},
   "outputs": [
    {
     "data": {
      "text/plain": [
       "array([[-0.12242184,  0.74119257,  0.87946395,  0.06816352],\n",
       "       [ 0.59900112,  0.38280477, -1.00810897, -0.71526407],\n",
       "       [-0.973788  ,  0.09878393,  1.26774864, -0.94726918],\n",
       "       [-0.85876189,  0.32625247,  0.44504511, -0.12408204],\n",
       "       [ 0.41322139,  0.50592992,  0.93211346, -0.17926167],\n",
       "       [ 2.063017  ,  0.12312343,  0.60965319, -1.06072898],\n",
       "       [ 2.22023269,  0.16823833, -0.14283792,  0.06206003]])"
      ]
     },
     "execution_count": 6,
     "metadata": {},
     "output_type": "execute_result"
    }
   ],
   "source": [
    "data"
   ]
  },
  {
   "cell_type": "code",
   "execution_count": 7,
   "metadata": {},
   "outputs": [
    {
     "data": {
      "text/plain": [
       "array([ True, False, False,  True, False, False, False])"
      ]
     },
     "execution_count": 7,
     "metadata": {},
     "output_type": "execute_result"
    }
   ],
   "source": [
    "names == 'bob'"
   ]
  },
  {
   "cell_type": "code",
   "execution_count": 8,
   "metadata": {},
   "outputs": [
    {
     "data": {
      "text/plain": [
       "array([[-0.12242184,  0.74119257,  0.87946395,  0.06816352],\n",
       "       [-0.85876189,  0.32625247,  0.44504511, -0.12408204]])"
      ]
     },
     "execution_count": 8,
     "metadata": {},
     "output_type": "execute_result"
    }
   ],
   "source": [
    "data[names == 'bob']"
   ]
  },
  {
   "cell_type": "code",
   "execution_count": 9,
   "metadata": {},
   "outputs": [
    {
     "data": {
      "text/plain": [
       "array([[ 0.87946395,  0.06816352],\n",
       "       [ 0.44504511, -0.12408204]])"
      ]
     },
     "execution_count": 9,
     "metadata": {},
     "output_type": "execute_result"
    }
   ],
   "source": [
    "data[names == 'bob',2:]"
   ]
  },
  {
   "cell_type": "code",
   "execution_count": 10,
   "metadata": {},
   "outputs": [
    {
     "data": {
      "text/plain": [
       "array([ 0.06816352, -0.12408204])"
      ]
     },
     "execution_count": 10,
     "metadata": {},
     "output_type": "execute_result"
    }
   ],
   "source": [
    "data[names == 'bob' , 3]"
   ]
  },
  {
   "cell_type": "code",
   "execution_count": 12,
   "metadata": {},
   "outputs": [],
   "source": [
    "data[(names != 'joe')] = 7"
   ]
  },
  {
   "cell_type": "code",
   "execution_count": 13,
   "metadata": {},
   "outputs": [
    {
     "data": {
      "text/plain": [
       "array([[ 7.        ,  7.        ,  7.        ,  7.        ],\n",
       "       [ 0.59900112,  0.38280477, -1.00810897, -0.71526407],\n",
       "       [ 7.        ,  7.        ,  7.        ,  7.        ],\n",
       "       [ 7.        ,  7.        ,  7.        ,  7.        ],\n",
       "       [ 7.        ,  7.        ,  7.        ,  7.        ],\n",
       "       [ 2.063017  ,  0.12312343,  0.60965319, -1.06072898],\n",
       "       [ 2.22023269,  0.16823833, -0.14283792,  0.06206003]])"
      ]
     },
     "execution_count": 13,
     "metadata": {},
     "output_type": "execute_result"
    }
   ],
   "source": [
    "data"
   ]
  },
  {
   "cell_type": "code",
   "execution_count": null,
   "metadata": {},
   "outputs": [],
   "source": [
    "# FANCY INDEXING:-"
   ]
  },
  {
   "cell_type": "code",
   "execution_count": 3,
   "metadata": {},
   "outputs": [],
   "source": [
    "arr = np.empty((8,4))"
   ]
  },
  {
   "cell_type": "code",
   "execution_count": 4,
   "metadata": {},
   "outputs": [],
   "source": [
    "for i in range(8):\n",
    "    arr[i] = i"
   ]
  },
  {
   "cell_type": "code",
   "execution_count": 5,
   "metadata": {},
   "outputs": [
    {
     "data": {
      "text/plain": [
       "array([[0., 0., 0., 0.],\n",
       "       [1., 1., 1., 1.],\n",
       "       [2., 2., 2., 2.],\n",
       "       [3., 3., 3., 3.],\n",
       "       [4., 4., 4., 4.],\n",
       "       [5., 5., 5., 5.],\n",
       "       [6., 6., 6., 6.],\n",
       "       [7., 7., 7., 7.]])"
      ]
     },
     "execution_count": 5,
     "metadata": {},
     "output_type": "execute_result"
    }
   ],
   "source": [
    "arr"
   ]
  },
  {
   "cell_type": "code",
   "execution_count": 7,
   "metadata": {},
   "outputs": [
    {
     "data": {
      "text/plain": [
       "array([[4., 4., 4., 4.],\n",
       "       [3., 3., 3., 3.],\n",
       "       [0., 0., 0., 0.],\n",
       "       [6., 6., 6., 6.]])"
      ]
     },
     "execution_count": 7,
     "metadata": {},
     "output_type": "execute_result"
    }
   ],
   "source": [
    "arr[[4,3,0,6]]"
   ]
  },
  {
   "cell_type": "code",
   "execution_count": 8,
   "metadata": {},
   "outputs": [
    {
     "data": {
      "text/plain": [
       "array([[5., 5., 5., 5.],\n",
       "       [3., 3., 3., 3.],\n",
       "       [1., 1., 1., 1.]])"
      ]
     },
     "execution_count": 8,
     "metadata": {},
     "output_type": "execute_result"
    }
   ],
   "source": [
    "arr[[-3,-5,-7]]"
   ]
  },
  {
   "cell_type": "code",
   "execution_count": 9,
   "metadata": {},
   "outputs": [],
   "source": [
    "arr = np.arange(32).reshape((8,4))"
   ]
  },
  {
   "cell_type": "code",
   "execution_count": 10,
   "metadata": {},
   "outputs": [
    {
     "data": {
      "text/plain": [
       "array([[ 0,  1,  2,  3],\n",
       "       [ 4,  5,  6,  7],\n",
       "       [ 8,  9, 10, 11],\n",
       "       [12, 13, 14, 15],\n",
       "       [16, 17, 18, 19],\n",
       "       [20, 21, 22, 23],\n",
       "       [24, 25, 26, 27],\n",
       "       [28, 29, 30, 31]])"
      ]
     },
     "execution_count": 10,
     "metadata": {},
     "output_type": "execute_result"
    }
   ],
   "source": [
    "arr"
   ]
  },
  {
   "cell_type": "code",
   "execution_count": 12,
   "metadata": {},
   "outputs": [
    {
     "data": {
      "text/plain": [
       "array([ 4, 23, 29, 10])"
      ]
     },
     "execution_count": 12,
     "metadata": {},
     "output_type": "execute_result"
    }
   ],
   "source": [
    "arr[[1,5,7,2],[0,3,1,2]]  # fancy indexing always result one-dimensional array. it copies the data in new array."
   ]
  },
  {
   "cell_type": "code",
   "execution_count": null,
   "metadata": {},
   "outputs": [],
   "source": [
    "#to get the result in ndarray. we can do like this."
   ]
  },
  {
   "cell_type": "code",
   "execution_count": 14,
   "metadata": {},
   "outputs": [
    {
     "data": {
      "text/plain": [
       "array([[ 4,  7,  5,  6],\n",
       "       [20, 23, 21, 22],\n",
       "       [28, 31, 29, 30],\n",
       "       [ 8, 11,  9, 10]])"
      ]
     },
     "execution_count": 14,
     "metadata": {},
     "output_type": "execute_result"
    }
   ],
   "source": [
    "arr[[1,5,7,2]][ : ,[0,3,1,2]] # this result in n-D array."
   ]
  },
  {
   "cell_type": "code",
   "execution_count": null,
   "metadata": {},
   "outputs": [],
   "source": [
    "#  TRANSPOSING ARRAYS AND SWAPING AXES."
   ]
  },
  {
   "cell_type": "code",
   "execution_count": 16,
   "metadata": {},
   "outputs": [],
   "source": [
    "arr = np.arange(15).reshape((3,5))"
   ]
  },
  {
   "cell_type": "code",
   "execution_count": 17,
   "metadata": {},
   "outputs": [
    {
     "data": {
      "text/plain": [
       "array([[ 0,  1,  2,  3,  4],\n",
       "       [ 5,  6,  7,  8,  9],\n",
       "       [10, 11, 12, 13, 14]])"
      ]
     },
     "execution_count": 17,
     "metadata": {},
     "output_type": "execute_result"
    }
   ],
   "source": [
    "arr"
   ]
  },
  {
   "cell_type": "code",
   "execution_count": 18,
   "metadata": {},
   "outputs": [
    {
     "data": {
      "text/plain": [
       "array([[ 0,  5, 10],\n",
       "       [ 1,  6, 11],\n",
       "       [ 2,  7, 12],\n",
       "       [ 3,  8, 13],\n",
       "       [ 4,  9, 14]])"
      ]
     },
     "execution_count": 18,
     "metadata": {},
     "output_type": "execute_result"
    }
   ],
   "source": [
    "arr.T  # .T is a special case of swaping axes."
   ]
  },
  {
   "cell_type": "code",
   "execution_count": 19,
   "metadata": {},
   "outputs": [],
   "source": [
    "arr = np.random.randn(6,3)"
   ]
  },
  {
   "cell_type": "code",
   "execution_count": 20,
   "metadata": {},
   "outputs": [
    {
     "data": {
      "text/plain": [
       "array([[ 0.262127  ,  0.74523595, -0.47276817],\n",
       "       [-2.24442576,  0.98617573,  0.78017732],\n",
       "       [-0.08218629,  1.2903082 ,  1.16016078],\n",
       "       [-0.45254355, -0.59390217,  1.75075839],\n",
       "       [ 1.49884876,  2.50079341,  0.69491298],\n",
       "       [ 0.29453873,  1.44228981, -1.54124092]])"
      ]
     },
     "execution_count": 20,
     "metadata": {},
     "output_type": "execute_result"
    }
   ],
   "source": [
    "arr"
   ]
  },
  {
   "cell_type": "code",
   "execution_count": 21,
   "metadata": {},
   "outputs": [
    {
     "data": {
      "text/plain": [
       "array([[ 7.65100847,  2.3177905 , -2.17500479],\n",
       "       [ 2.3177905 , 11.8797018 ,  0.38917159],\n",
       "       [-2.17500479,  0.38917159,  8.10164201]])"
      ]
     },
     "execution_count": 21,
     "metadata": {},
     "output_type": "execute_result"
    }
   ],
   "source": [
    "np.dot(arr.T,arr) # for inner matrix product .dot() method is used."
   ]
  },
  {
   "cell_type": "code",
   "execution_count": 22,
   "metadata": {},
   "outputs": [],
   "source": [
    "arr = np.arange(16).reshape((2,2,4))"
   ]
  },
  {
   "cell_type": "code",
   "execution_count": 23,
   "metadata": {},
   "outputs": [
    {
     "data": {
      "text/plain": [
       "array([[[ 0,  1,  2,  3],\n",
       "        [ 4,  5,  6,  7]],\n",
       "\n",
       "       [[ 8,  9, 10, 11],\n",
       "        [12, 13, 14, 15]]])"
      ]
     },
     "execution_count": 23,
     "metadata": {},
     "output_type": "execute_result"
    }
   ],
   "source": [
    "arr"
   ]
  },
  {
   "cell_type": "code",
   "execution_count": 29,
   "metadata": {},
   "outputs": [
    {
     "data": {
      "text/plain": [
       "array([[[ 0,  1,  2,  3],\n",
       "        [ 8,  9, 10, 11]],\n",
       "\n",
       "       [[ 4,  5,  6,  7],\n",
       "        [12, 13, 14, 15]]])"
      ]
     },
     "execution_count": 29,
     "metadata": {},
     "output_type": "execute_result"
    }
   ],
   "source": [
    "arr.transpose((1,0,2))  # for high dimensioal arrays transpose() method will use and it take tuple of axis numbers."
   ]
  },
  {
   "cell_type": "code",
   "execution_count": 30,
   "metadata": {},
   "outputs": [
    {
     "data": {
      "text/plain": [
       "array([[[ 0,  1,  2,  3],\n",
       "        [ 4,  5,  6,  7]],\n",
       "\n",
       "       [[ 8,  9, 10, 11],\n",
       "        [12, 13, 14, 15]]])"
      ]
     },
     "execution_count": 30,
     "metadata": {},
     "output_type": "execute_result"
    }
   ],
   "source": [
    "arr"
   ]
  },
  {
   "cell_type": "code",
   "execution_count": 32,
   "metadata": {},
   "outputs": [
    {
     "data": {
      "text/plain": [
       "array([[[ 0,  4],\n",
       "        [ 1,  5],\n",
       "        [ 2,  6],\n",
       "        [ 3,  7]],\n",
       "\n",
       "       [[ 8, 12],\n",
       "        [ 9, 13],\n",
       "        [10, 14],\n",
       "        [11, 15]]])"
      ]
     },
     "execution_count": 32,
     "metadata": {},
     "output_type": "execute_result"
    }
   ],
   "source": [
    "arr.swapaxes(1,2)  # for ndarray  swapaxes() method is used .  it returns a view in a data without making a copy."
   ]
  },
  {
   "cell_type": "code",
   "execution_count": 33,
   "metadata": {},
   "outputs": [],
   "source": [
    "# UNIVERSAL FUNCTIONS: FAST ELEMENT WISE ARRAY FUNCTIONS.\n",
    "\n",
    "# it performs a element wise operations in a data ndarray."
   ]
  },
  {
   "cell_type": "code",
   "execution_count": 34,
   "metadata": {},
   "outputs": [],
   "source": [
    "arr = np.arange(10)"
   ]
  },
  {
   "cell_type": "code",
   "execution_count": 35,
   "metadata": {},
   "outputs": [
    {
     "data": {
      "text/plain": [
       "array([0, 1, 2, 3, 4, 5, 6, 7, 8, 9])"
      ]
     },
     "execution_count": 35,
     "metadata": {},
     "output_type": "execute_result"
    }
   ],
   "source": [
    "arr"
   ]
  },
  {
   "cell_type": "code",
   "execution_count": 36,
   "metadata": {},
   "outputs": [],
   "source": [
    "#  how's the josh ?  High sir!....."
   ]
  },
  {
   "cell_type": "code",
   "execution_count": 37,
   "metadata": {},
   "outputs": [
    {
     "data": {
      "text/plain": [
       "array([0.        , 1.        , 1.41421356, 1.73205081, 2.        ,\n",
       "       2.23606798, 2.44948974, 2.64575131, 2.82842712, 3.        ])"
      ]
     },
     "execution_count": 37,
     "metadata": {},
     "output_type": "execute_result"
    }
   ],
   "source": [
    "np.sqrt(arr)"
   ]
  },
  {
   "cell_type": "code",
   "execution_count": 38,
   "metadata": {},
   "outputs": [
    {
     "data": {
      "text/plain": [
       "array([1.00000000e+00, 2.71828183e+00, 7.38905610e+00, 2.00855369e+01,\n",
       "       5.45981500e+01, 1.48413159e+02, 4.03428793e+02, 1.09663316e+03,\n",
       "       2.98095799e+03, 8.10308393e+03])"
      ]
     },
     "execution_count": 38,
     "metadata": {},
     "output_type": "execute_result"
    }
   ],
   "source": [
    "np.exp(arr)"
   ]
  },
  {
   "cell_type": "code",
   "execution_count": 39,
   "metadata": {},
   "outputs": [],
   "source": [
    "x = np.random.randn(8)"
   ]
  },
  {
   "cell_type": "code",
   "execution_count": 40,
   "metadata": {},
   "outputs": [],
   "source": [
    "y = np.random.randn(8)"
   ]
  },
  {
   "cell_type": "code",
   "execution_count": 41,
   "metadata": {},
   "outputs": [
    {
     "data": {
      "text/plain": [
       "array([ 0.28368724,  0.32380927,  0.50772116, -0.50016686, -0.01609941,\n",
       "        1.08071698,  0.02797795,  1.15943412])"
      ]
     },
     "execution_count": 41,
     "metadata": {},
     "output_type": "execute_result"
    }
   ],
   "source": [
    "x"
   ]
  },
  {
   "cell_type": "code",
   "execution_count": 42,
   "metadata": {},
   "outputs": [
    {
     "data": {
      "text/plain": [
       "array([ 1.07717953, -0.13522576,  0.40378422, -0.00963784,  1.9736372 ,\n",
       "        0.41450976, -0.48554013, -0.52531382])"
      ]
     },
     "execution_count": 42,
     "metadata": {},
     "output_type": "execute_result"
    }
   ],
   "source": [
    "y"
   ]
  },
  {
   "cell_type": "code",
   "execution_count": 43,
   "metadata": {},
   "outputs": [
    {
     "data": {
      "text/plain": [
       "array([ 1.07717953,  0.32380927,  0.50772116, -0.00963784,  1.9736372 ,\n",
       "        1.08071698,  0.02797795,  1.15943412])"
      ]
     },
     "execution_count": 43,
     "metadata": {},
     "output_type": "execute_result"
    }
   ],
   "source": [
    "np.maximum(x,y)"
   ]
  },
  {
   "cell_type": "code",
   "execution_count": 44,
   "metadata": {},
   "outputs": [],
   "source": [
    "arr = np.random.randn(7) * 5"
   ]
  },
  {
   "cell_type": "code",
   "execution_count": 45,
   "metadata": {},
   "outputs": [
    {
     "data": {
      "text/plain": [
       "array([ 1.0828916 ,  2.34997776, -0.61375597,  8.78919875,  1.33950974,\n",
       "        3.81048888,  3.17903116])"
      ]
     },
     "execution_count": 45,
     "metadata": {},
     "output_type": "execute_result"
    }
   ],
   "source": [
    "arr"
   ]
  },
  {
   "cell_type": "code",
   "execution_count": 46,
   "metadata": {},
   "outputs": [],
   "source": [
    "reminder,whole_part = np.modf(arr)"
   ]
  },
  {
   "cell_type": "code",
   "execution_count": 47,
   "metadata": {},
   "outputs": [
    {
     "data": {
      "text/plain": [
       "array([ 0.0828916 ,  0.34997776, -0.61375597,  0.78919875,  0.33950974,\n",
       "        0.81048888,  0.17903116])"
      ]
     },
     "execution_count": 47,
     "metadata": {},
     "output_type": "execute_result"
    }
   ],
   "source": [
    "reminder"
   ]
  },
  {
   "cell_type": "code",
   "execution_count": 48,
   "metadata": {},
   "outputs": [
    {
     "data": {
      "text/plain": [
       "array([ 1.,  2., -0.,  8.,  1.,  3.,  3.])"
      ]
     },
     "execution_count": 48,
     "metadata": {},
     "output_type": "execute_result"
    }
   ],
   "source": [
    "whole_part"
   ]
  },
  {
   "cell_type": "code",
   "execution_count": 49,
   "metadata": {},
   "outputs": [
    {
     "name": "stderr",
     "output_type": "stream",
     "text": [
      "C:\\Users\\MY HP\\Anaconda3\\lib\\site-packages\\ipykernel_launcher.py:1: RuntimeWarning: invalid value encountered in sqrt\n",
      "  \"\"\"Entry point for launching an IPython kernel.\n"
     ]
    },
    {
     "data": {
      "text/plain": [
       "array([1.04062078, 1.53296372,        nan, 2.96465829, 1.15737191,\n",
       "       1.95204736, 1.78298378])"
      ]
     },
     "execution_count": 49,
     "metadata": {},
     "output_type": "execute_result"
    }
   ],
   "source": [
    "np.sqrt(arr)"
   ]
  },
  {
   "cell_type": "code",
   "execution_count": 50,
   "metadata": {},
   "outputs": [
    {
     "data": {
      "text/plain": [
       "array([ 1.0828916 ,  2.34997776, -0.61375597,  8.78919875,  1.33950974,\n",
       "        3.81048888,  3.17903116])"
      ]
     },
     "execution_count": 50,
     "metadata": {},
     "output_type": "execute_result"
    }
   ],
   "source": [
    "arr"
   ]
  },
  {
   "cell_type": "code",
   "execution_count": 51,
   "metadata": {},
   "outputs": [
    {
     "name": "stderr",
     "output_type": "stream",
     "text": [
      "C:\\Users\\MY HP\\Anaconda3\\lib\\site-packages\\ipykernel_launcher.py:1: RuntimeWarning: invalid value encountered in sqrt\n",
      "  \"\"\"Entry point for launching an IPython kernel.\n"
     ]
    },
    {
     "data": {
      "text/plain": [
       "array([1.04062078, 1.53296372,        nan, 2.96465829, 1.15737191,\n",
       "       1.95204736, 1.78298378])"
      ]
     },
     "execution_count": 51,
     "metadata": {},
     "output_type": "execute_result"
    }
   ],
   "source": [
    "np.sqrt(arr,arr)"
   ]
  },
  {
   "cell_type": "code",
   "execution_count": 52,
   "metadata": {},
   "outputs": [
    {
     "data": {
      "text/plain": [
       "array([1.04062078, 1.53296372,        nan, 2.96465829, 1.15737191,\n",
       "       1.95204736, 1.78298378])"
      ]
     },
     "execution_count": 52,
     "metadata": {},
     "output_type": "execute_result"
    }
   ],
   "source": [
    "arr"
   ]
  },
  {
   "cell_type": "code",
   "execution_count": 53,
   "metadata": {},
   "outputs": [],
   "source": [
    "# unary ufuncs."
   ]
  },
  {
   "cell_type": "code",
   "execution_count": 54,
   "metadata": {},
   "outputs": [],
   "source": [
    "arr = np.arange(10)"
   ]
  },
  {
   "cell_type": "code",
   "execution_count": 55,
   "metadata": {},
   "outputs": [
    {
     "data": {
      "text/plain": [
       "array([0, 1, 2, 3, 4, 5, 6, 7, 8, 9])"
      ]
     },
     "execution_count": 55,
     "metadata": {},
     "output_type": "execute_result"
    }
   ],
   "source": [
    "arr"
   ]
  },
  {
   "cell_type": "code",
   "execution_count": 56,
   "metadata": {},
   "outputs": [
    {
     "data": {
      "text/plain": [
       "array([0, 1, 2, 3, 4, 5, 6, 7, 8, 9])"
      ]
     },
     "execution_count": 56,
     "metadata": {},
     "output_type": "execute_result"
    }
   ],
   "source": [
    "np.abs(arr)"
   ]
  },
  {
   "cell_type": "code",
   "execution_count": 57,
   "metadata": {},
   "outputs": [
    {
     "data": {
      "text/plain": [
       "array([0., 1., 2., 3., 4., 5., 6., 7., 8., 9.])"
      ]
     },
     "execution_count": 57,
     "metadata": {},
     "output_type": "execute_result"
    }
   ],
   "source": [
    "np.fabs(arr)"
   ]
  },
  {
   "cell_type": "code",
   "execution_count": 58,
   "metadata": {},
   "outputs": [
    {
     "data": {
      "text/plain": [
       "array([ 0,  1,  4,  9, 16, 25, 36, 49, 64, 81], dtype=int32)"
      ]
     },
     "execution_count": 58,
     "metadata": {},
     "output_type": "execute_result"
    }
   ],
   "source": [
    "np.square(arr)"
   ]
  },
  {
   "cell_type": "code",
   "execution_count": 59,
   "metadata": {},
   "outputs": [
    {
     "name": "stderr",
     "output_type": "stream",
     "text": [
      "C:\\Users\\MY HP\\Anaconda3\\lib\\site-packages\\ipykernel_launcher.py:1: RuntimeWarning: divide by zero encountered in log\n",
      "  \"\"\"Entry point for launching an IPython kernel.\n"
     ]
    },
    {
     "data": {
      "text/plain": [
       "array([      -inf, 0.        , 0.69314718, 1.09861229, 1.38629436,\n",
       "       1.60943791, 1.79175947, 1.94591015, 2.07944154, 2.19722458])"
      ]
     },
     "execution_count": 59,
     "metadata": {},
     "output_type": "execute_result"
    }
   ],
   "source": [
    "np.log(arr)"
   ]
  },
  {
   "cell_type": "code",
   "execution_count": 60,
   "metadata": {},
   "outputs": [
    {
     "name": "stderr",
     "output_type": "stream",
     "text": [
      "C:\\Users\\MY HP\\Anaconda3\\lib\\site-packages\\ipykernel_launcher.py:1: RuntimeWarning: divide by zero encountered in log10\n",
      "  \"\"\"Entry point for launching an IPython kernel.\n"
     ]
    },
    {
     "data": {
      "text/plain": [
       "array([      -inf, 0.        , 0.30103   , 0.47712125, 0.60205999,\n",
       "       0.69897   , 0.77815125, 0.84509804, 0.90308999, 0.95424251])"
      ]
     },
     "execution_count": 60,
     "metadata": {},
     "output_type": "execute_result"
    }
   ],
   "source": [
    "np.log10(arr)"
   ]
  },
  {
   "cell_type": "code",
   "execution_count": 61,
   "metadata": {},
   "outputs": [
    {
     "data": {
      "text/plain": [
       "array([0, 1, 1, 1, 1, 1, 1, 1, 1, 1])"
      ]
     },
     "execution_count": 61,
     "metadata": {},
     "output_type": "execute_result"
    }
   ],
   "source": [
    "np.sign(arr)"
   ]
  },
  {
   "cell_type": "code",
   "execution_count": 62,
   "metadata": {},
   "outputs": [
    {
     "data": {
      "text/plain": [
       "array([0., 1., 2., 3., 4., 5., 6., 7., 8., 9.])"
      ]
     },
     "execution_count": 62,
     "metadata": {},
     "output_type": "execute_result"
    }
   ],
   "source": [
    "np.ceil(arr)"
   ]
  },
  {
   "cell_type": "code",
   "execution_count": 63,
   "metadata": {},
   "outputs": [
    {
     "data": {
      "text/plain": [
       "array([0., 1., 2., 3., 4., 5., 6., 7., 8., 9.])"
      ]
     },
     "execution_count": 63,
     "metadata": {},
     "output_type": "execute_result"
    }
   ],
   "source": [
    "np.rint(arr)"
   ]
  },
  {
   "cell_type": "code",
   "execution_count": 64,
   "metadata": {},
   "outputs": [
    {
     "data": {
      "text/plain": [
       "array([ 0.        ,  0.84147098,  0.90929743,  0.14112001, -0.7568025 ,\n",
       "       -0.95892427, -0.2794155 ,  0.6569866 ,  0.98935825,  0.41211849])"
      ]
     },
     "execution_count": 64,
     "metadata": {},
     "output_type": "execute_result"
    }
   ],
   "source": [
    "np.sin(arr)"
   ]
  },
  {
   "cell_type": "code",
   "execution_count": 65,
   "metadata": {},
   "outputs": [
    {
     "data": {
      "text/plain": [
       "array([0.00000000e+00, 1.17520119e+00, 3.62686041e+00, 1.00178749e+01,\n",
       "       2.72899172e+01, 7.42032106e+01, 2.01713157e+02, 5.48316123e+02,\n",
       "       1.49047883e+03, 4.05154190e+03])"
      ]
     },
     "execution_count": 65,
     "metadata": {},
     "output_type": "execute_result"
    }
   ],
   "source": [
    "np.sinh(arr)"
   ]
  },
  {
   "cell_type": "code",
   "execution_count": 66,
   "metadata": {},
   "outputs": [],
   "source": [
    "# Binary Universal function.-"
   ]
  },
  {
   "cell_type": "code",
   "execution_count": 67,
   "metadata": {},
   "outputs": [],
   "source": [
    "x = np.random.randn(4).reshape(2,2)"
   ]
  },
  {
   "cell_type": "code",
   "execution_count": 68,
   "metadata": {},
   "outputs": [
    {
     "data": {
      "text/plain": [
       "array([[ 1.06089459,  0.63086445],\n",
       "       [-0.92740524, -0.66917451]])"
      ]
     },
     "execution_count": 68,
     "metadata": {},
     "output_type": "execute_result"
    }
   ],
   "source": [
    "x"
   ]
  },
  {
   "cell_type": "code",
   "execution_count": 69,
   "metadata": {},
   "outputs": [],
   "source": [
    "y = np.random.randn(4).reshape(2,2)"
   ]
  },
  {
   "cell_type": "code",
   "execution_count": 70,
   "metadata": {},
   "outputs": [
    {
     "data": {
      "text/plain": [
       "array([[-1.38203729, -0.09669718],\n",
       "       [ 0.55697598,  0.6745652 ]])"
      ]
     },
     "execution_count": 70,
     "metadata": {},
     "output_type": "execute_result"
    }
   ],
   "source": [
    "y"
   ]
  },
  {
   "cell_type": "code",
   "execution_count": 71,
   "metadata": {},
   "outputs": [
    {
     "data": {
      "text/plain": [
       "array([[-0.3211427 ,  0.53416727],\n",
       "       [-0.37042925,  0.00539069]])"
      ]
     },
     "execution_count": 71,
     "metadata": {},
     "output_type": "execute_result"
    }
   ],
   "source": [
    "np.add(x,y)"
   ]
  },
  {
   "cell_type": "code",
   "execution_count": 72,
   "metadata": {},
   "outputs": [],
   "source": [
    "# see page 107 for more binary universal functions."
   ]
  },
  {
   "cell_type": "code",
   "execution_count": 73,
   "metadata": {},
   "outputs": [],
   "source": [
    "# ARRAY ORIENTED PROGRAMMING WITH Arrays"
   ]
  },
  {
   "cell_type": "code",
   "execution_count": 74,
   "metadata": {},
   "outputs": [],
   "source": [
    "points = np.arange(-5,5,0.01)"
   ]
  },
  {
   "cell_type": "code",
   "execution_count": 75,
   "metadata": {},
   "outputs": [],
   "source": [
    "xs,ys =  np.meshgrid(points,points)  # it takes two 1D arrays and produce two 2D arrays corresponding to all pairs of (x,y)."
   ]
  },
  {
   "cell_type": "code",
   "execution_count": 76,
   "metadata": {},
   "outputs": [
    {
     "data": {
      "text/plain": [
       "array([[-5.  , -5.  , -5.  , ..., -5.  , -5.  , -5.  ],\n",
       "       [-4.99, -4.99, -4.99, ..., -4.99, -4.99, -4.99],\n",
       "       [-4.98, -4.98, -4.98, ..., -4.98, -4.98, -4.98],\n",
       "       ...,\n",
       "       [ 4.97,  4.97,  4.97, ...,  4.97,  4.97,  4.97],\n",
       "       [ 4.98,  4.98,  4.98, ...,  4.98,  4.98,  4.98],\n",
       "       [ 4.99,  4.99,  4.99, ...,  4.99,  4.99,  4.99]])"
      ]
     },
     "execution_count": 76,
     "metadata": {},
     "output_type": "execute_result"
    }
   ],
   "source": [
    "ys"
   ]
  },
  {
   "cell_type": "code",
   "execution_count": 77,
   "metadata": {},
   "outputs": [],
   "source": [
    "z = np.sqrt(xs**2 + ys**2)"
   ]
  },
  {
   "cell_type": "code",
   "execution_count": 78,
   "metadata": {},
   "outputs": [
    {
     "data": {
      "text/plain": [
       "array([[7.07106781, 7.06400028, 7.05693985, ..., 7.04988652, 7.05693985,\n",
       "        7.06400028],\n",
       "       [7.06400028, 7.05692568, 7.04985815, ..., 7.04279774, 7.04985815,\n",
       "        7.05692568],\n",
       "       [7.05693985, 7.04985815, 7.04278354, ..., 7.03571603, 7.04278354,\n",
       "        7.04985815],\n",
       "       ...,\n",
       "       [7.04988652, 7.04279774, 7.03571603, ..., 7.0286414 , 7.03571603,\n",
       "        7.04279774],\n",
       "       [7.05693985, 7.04985815, 7.04278354, ..., 7.03571603, 7.04278354,\n",
       "        7.04985815],\n",
       "       [7.06400028, 7.05692568, 7.04985815, ..., 7.04279774, 7.04985815,\n",
       "        7.05692568]])"
      ]
     },
     "execution_count": 78,
     "metadata": {},
     "output_type": "execute_result"
    }
   ],
   "source": [
    "z"
   ]
  },
  {
   "cell_type": "code",
   "execution_count": 17,
   "metadata": {},
   "outputs": [],
   "source": [
    "import matplotlib.pyplot as plt"
   ]
  },
  {
   "cell_type": "code",
   "execution_count": 85,
   "metadata": {},
   "outputs": [
    {
     "data": {
      "text/plain": [
       "Text(0.5, 1.0, 'its my frist graph using imshow function.')"
      ]
     },
     "execution_count": 85,
     "metadata": {},
     "output_type": "execute_result"
    },
    {
     "data": {
      "image/png": "[encoded data removed]",
      "text/plain": [
       "<Figure size 432x288 with 2 Axes>"
      ]
     },
     "metadata": {
      "needs_background": "light"
     },
     "output_type": "display_data"
    }
   ],
   "source": [
    "plt.imshow(z,cmap = plt.cm.gray); plt.colorbar()\n",
    "plt.title(\"its my frist graph using imshow function.\")"
   ]
  },
  {
   "cell_type": "code",
   "execution_count": 81,
   "metadata": {},
   "outputs": [
    {
     "data": {
      "text/plain": [
       "Text(0.5, 1.0, 'image plot of $\\\\sqrt{x^2 + y^2}$ for a grid of values.')"
      ]
     },
     "execution_count": 81,
     "metadata": {},
     "output_type": "execute_result"
    },
    {
     "data": {
      "image/png": "[encoded data removed]",
      "text/plain": [
       "<Figure size 432x288 with 1 Axes>"
      ]
     },
     "metadata": {
      "needs_background": "light"
     },
     "output_type": "display_data"
    }
   ],
   "source": [
    "plt.title(\"image plot of $\\sqrt{x^2 + y^2}$ for a grid of values.\")"
   ]
  },
  {
   "cell_type": "code",
   "execution_count": 86,
   "metadata": {},
   "outputs": [],
   "source": [
    "# Expressing Conditional Logic as Array Operations.:-"
   ]
  },
  {
   "cell_type": "code",
   "execution_count": 87,
   "metadata": {},
   "outputs": [],
   "source": [
    "xarr = np.array([1.1,1.2,1.3,1.4,1.5])"
   ]
  },
  {
   "cell_type": "code",
   "execution_count": 88,
   "metadata": {},
   "outputs": [],
   "source": [
    "yarr = np.array([2.1,2.2,2.3,2.4,2.5])"
   ]
  },
  {
   "cell_type": "code",
   "execution_count": 89,
   "metadata": {},
   "outputs": [],
   "source": [
    "cond = np.array([True,False,True,True,False])"
   ]
  },
  {
   "cell_type": "code",
   "execution_count": 92,
   "metadata": {},
   "outputs": [],
   "source": [
    "result = [(x if c else y)\n",
    "         for x,y,c in zip(xarr,yarr,cond)]"
   ]
  },
  {
   "cell_type": "code",
   "execution_count": 93,
   "metadata": {},
   "outputs": [
    {
     "data": {
      "text/plain": [
       "[1.1, 2.2, 1.3, 1.4, 2.5]"
      ]
     },
     "execution_count": 93,
     "metadata": {},
     "output_type": "execute_result"
    }
   ],
   "source": [
    "result"
   ]
  },
  {
   "cell_type": "code",
   "execution_count": 94,
   "metadata": {},
   "outputs": [],
   "source": [
    "# the same thinfg we can do more precisely and fastly with np.where() "
   ]
  },
  {
   "cell_type": "code",
   "execution_count": 95,
   "metadata": {},
   "outputs": [],
   "source": [
    "result = np.where(cond,xarr,yarr)"
   ]
  },
  {
   "cell_type": "code",
   "execution_count": 96,
   "metadata": {},
   "outputs": [
    {
     "data": {
      "text/plain": [
       "array([1.1, 2.2, 1.3, 1.4, 2.5])"
      ]
     },
     "execution_count": 96,
     "metadata": {},
     "output_type": "execute_result"
    }
   ],
   "source": [
    "result"
   ]
  },
  {
   "cell_type": "code",
   "execution_count": 97,
   "metadata": {},
   "outputs": [],
   "source": [
    "arr = np.random.randn(4,4)"
   ]
  },
  {
   "cell_type": "code",
   "execution_count": 98,
   "metadata": {},
   "outputs": [
    {
     "data": {
      "text/plain": [
       "array([[ 1.5423101 , -0.49131792,  0.05723392,  0.67174204],\n",
       "       [ 2.06378592, -0.46219424, -0.06237513,  0.30117508],\n",
       "       [-1.07528284,  1.97354902,  0.73068118, -0.43311943],\n",
       "       [-1.00512309, -0.23004237, -0.31000897,  0.05343188]])"
      ]
     },
     "execution_count": 98,
     "metadata": {},
     "output_type": "execute_result"
    }
   ],
   "source": [
    "arr"
   ]
  },
  {
   "cell_type": "code",
   "execution_count": 99,
   "metadata": {},
   "outputs": [
    {
     "data": {
      "text/plain": [
       "array([[ True, False,  True,  True],\n",
       "       [ True, False, False,  True],\n",
       "       [False,  True,  True, False],\n",
       "       [False, False, False,  True]])"
      ]
     },
     "execution_count": 99,
     "metadata": {},
     "output_type": "execute_result"
    }
   ],
   "source": [
    "arr > 0"
   ]
  },
  {
   "cell_type": "code",
   "execution_count": 100,
   "metadata": {},
   "outputs": [
    {
     "data": {
      "text/plain": [
       "array([[ 2, -2,  2,  2],\n",
       "       [ 2, -2, -2,  2],\n",
       "       [-2,  2,  2, -2],\n",
       "       [-2, -2, -2,  2]])"
      ]
     },
     "execution_count": 100,
     "metadata": {},
     "output_type": "execute_result"
    }
   ],
   "source": [
    "np.where(arr>0,2,-2)"
   ]
  },
  {
   "cell_type": "code",
   "execution_count": 101,
   "metadata": {},
   "outputs": [
    {
     "data": {
      "text/plain": [
       "array([[ 2.        , -0.49131792,  2.        ,  2.        ],\n",
       "       [ 2.        , -0.46219424, -0.06237513,  2.        ],\n",
       "       [-1.07528284,  2.        ,  2.        , -0.43311943],\n",
       "       [-1.00512309, -0.23004237, -0.31000897,  2.        ]])"
      ]
     },
     "execution_count": 101,
     "metadata": {},
     "output_type": "execute_result"
    }
   ],
   "source": [
    "np.where(arr>0,2,arr)  # we can combine scalar when using np.where()"
   ]
  },
  {
   "cell_type": "code",
   "execution_count": 102,
   "metadata": {},
   "outputs": [],
   "source": [
    "# Mathematical and Statistical method."
   ]
  },
  {
   "cell_type": "code",
   "execution_count": 104,
   "metadata": {},
   "outputs": [],
   "source": [
    "arr =  np.random.randn(5,4)"
   ]
  },
  {
   "cell_type": "code",
   "execution_count": 105,
   "metadata": {},
   "outputs": [
    {
     "data": {
      "text/plain": [
       "array([[ 0.51453732, -0.69034452,  0.1815562 , -0.73181708],\n",
       "       [-0.62137055,  0.15620283,  0.19473434,  0.96694821],\n",
       "       [ 0.0333177 , -0.88551789,  0.06220581,  0.22585272],\n",
       "       [ 0.85197241,  0.32772946,  1.69781578, -0.68265655],\n",
       "       [-1.0445379 , -1.38764398,  0.28486331, -1.30133727]])"
      ]
     },
     "execution_count": 105,
     "metadata": {},
     "output_type": "execute_result"
    }
   ],
   "source": [
    "arr"
   ]
  },
  {
   "cell_type": "code",
   "execution_count": 106,
   "metadata": {},
   "outputs": [
    {
     "data": {
      "text/plain": [
       "-0.09237448271276608"
      ]
     },
     "execution_count": 106,
     "metadata": {},
     "output_type": "execute_result"
    }
   ],
   "source": [
    "arr.mean()"
   ]
  },
  {
   "cell_type": "code",
   "execution_count": 107,
   "metadata": {},
   "outputs": [
    {
     "data": {
      "text/plain": [
       "-1.8474896542553216"
      ]
     },
     "execution_count": 107,
     "metadata": {},
     "output_type": "execute_result"
    }
   ],
   "source": [
    "arr.sum()"
   ]
  },
  {
   "cell_type": "code",
   "execution_count": 108,
   "metadata": {},
   "outputs": [
    {
     "data": {
      "text/plain": [
       "-0.09237448271276608"
      ]
     },
     "execution_count": 108,
     "metadata": {},
     "output_type": "execute_result"
    }
   ],
   "source": [
    "np.mean(arr)"
   ]
  },
  {
   "cell_type": "code",
   "execution_count": 109,
   "metadata": {},
   "outputs": [
    {
     "data": {
      "text/plain": [
       "array([-0.18151702,  0.17412871, -0.14103541,  0.54871527, -0.86216396])"
      ]
     },
     "execution_count": 109,
     "metadata": {},
     "output_type": "execute_result"
    }
   ],
   "source": [
    "arr.mean(axis = 1)  # computes mean across the column."
   ]
  },
  {
   "cell_type": "code",
   "execution_count": 111,
   "metadata": {},
   "outputs": [
    {
     "data": {
      "text/plain": [
       "array([-0.26608102, -2.4795741 ,  2.42117544, -1.52300998])"
      ]
     },
     "execution_count": 111,
     "metadata": {},
     "output_type": "execute_result"
    }
   ],
   "source": [
    "arr.sum(axis = 0) # computes sum down the rows."
   ]
  },
  {
   "cell_type": "code",
   "execution_count": 112,
   "metadata": {},
   "outputs": [],
   "source": [
    "arr = np.array([0,1,2,3,4,5,6,7])"
   ]
  },
  {
   "cell_type": "code",
   "execution_count": 113,
   "metadata": {},
   "outputs": [
    {
     "data": {
      "text/plain": [
       "array([ 0,  1,  3,  6, 10, 15, 21, 28], dtype=int32)"
      ]
     },
     "execution_count": 113,
     "metadata": {},
     "output_type": "execute_result"
    }
   ],
   "source": [
    "arr.cumsum()"
   ]
  },
  {
   "cell_type": "code",
   "execution_count": 114,
   "metadata": {},
   "outputs": [],
   "source": [
    "arr = np.array([[0,1,2],[3,4,5],[6,7,8]])"
   ]
  },
  {
   "cell_type": "code",
   "execution_count": 115,
   "metadata": {},
   "outputs": [
    {
     "data": {
      "text/plain": [
       "array([[0, 1, 2],\n",
       "       [3, 4, 5],\n",
       "       [6, 7, 8]])"
      ]
     },
     "execution_count": 115,
     "metadata": {},
     "output_type": "execute_result"
    }
   ],
   "source": [
    "arr"
   ]
  },
  {
   "cell_type": "code",
   "execution_count": 116,
   "metadata": {},
   "outputs": [
    {
     "data": {
      "text/plain": [
       "array([ 0,  1,  3,  6, 10, 15, 21, 28, 36], dtype=int32)"
      ]
     },
     "execution_count": 116,
     "metadata": {},
     "output_type": "execute_result"
    }
   ],
   "source": [
    "np.cumsum(arr)"
   ]
  },
  {
   "cell_type": "code",
   "execution_count": 117,
   "metadata": {},
   "outputs": [
    {
     "data": {
      "text/plain": [
       "array([[ 0,  1,  2],\n",
       "       [ 3,  5,  7],\n",
       "       [ 9, 12, 15]], dtype=int32)"
      ]
     },
     "execution_count": 117,
     "metadata": {},
     "output_type": "execute_result"
    }
   ],
   "source": [
    "arr.cumsum(axis = 0)"
   ]
  },
  {
   "cell_type": "code",
   "execution_count": 118,
   "metadata": {},
   "outputs": [
    {
     "data": {
      "text/plain": [
       "array([[  0,   0,   0],\n",
       "       [  3,  12,  60],\n",
       "       [  6,  42, 336]], dtype=int32)"
      ]
     },
     "execution_count": 118,
     "metadata": {},
     "output_type": "execute_result"
    }
   ],
   "source": [
    "arr.cumprod(axis = 1)"
   ]
  },
  {
   "cell_type": "code",
   "execution_count": 119,
   "metadata": {},
   "outputs": [],
   "source": [
    "# Methods for Boolean Arrays:-"
   ]
  },
  {
   "cell_type": "code",
   "execution_count": 3,
   "metadata": {},
   "outputs": [],
   "source": [
    "arr = np.random.randn(100)"
   ]
  },
  {
   "cell_type": "code",
   "execution_count": 4,
   "metadata": {},
   "outputs": [
    {
     "data": {
      "text/plain": [
       "46"
      ]
     },
     "execution_count": 4,
     "metadata": {},
     "output_type": "execute_result"
    }
   ],
   "source": [
    "(arr > 0).sum() # number of positive values."
   ]
  },
  {
   "cell_type": "code",
   "execution_count": 9,
   "metadata": {},
   "outputs": [],
   "source": [
    "bools = np.array([True,False,True,False])"
   ]
  },
  {
   "cell_type": "code",
   "execution_count": 10,
   "metadata": {},
   "outputs": [
    {
     "data": {
      "text/plain": [
       "array([ True, False,  True, False])"
      ]
     },
     "execution_count": 10,
     "metadata": {},
     "output_type": "execute_result"
    }
   ],
   "source": [
    "bools"
   ]
  },
  {
   "cell_type": "code",
   "execution_count": 11,
   "metadata": {},
   "outputs": [
    {
     "data": {
      "text/plain": [
       "True"
      ]
     },
     "execution_count": 11,
     "metadata": {},
     "output_type": "execute_result"
    }
   ],
   "source": [
    "bools.any() # it checks for one or more value in array is True."
   ]
  },
  {
   "cell_type": "code",
   "execution_count": 12,
   "metadata": {},
   "outputs": [
    {
     "data": {
      "text/plain": [
       "False"
      ]
     },
     "execution_count": 12,
     "metadata": {},
     "output_type": "execute_result"
    }
   ],
   "source": [
    "bools.all() # it return Ture if all the element in array is True."
   ]
  },
  {
   "cell_type": "code",
   "execution_count": 13,
   "metadata": {},
   "outputs": [],
   "source": [
    "# Sorting:-"
   ]
  },
  {
   "cell_type": "code",
   "execution_count": 13,
   "metadata": {},
   "outputs": [],
   "source": [
    "arr = np.random.randn(5,3)"
   ]
  },
  {
   "cell_type": "code",
   "execution_count": 12,
   "metadata": {},
   "outputs": [
    {
     "data": {
      "text/plain": [
       "array([[[ 1.25554938],\n",
       "        [-1.6887508 ],\n",
       "        [-0.35296062]],\n",
       "\n",
       "       [[-0.73748213],\n",
       "        [-0.30846015],\n",
       "        [ 0.24964739]],\n",
       "\n",
       "       [[-0.06125556],\n",
       "        [ 0.80513217],\n",
       "        [ 0.5247761 ]],\n",
       "\n",
       "       [[-1.33102381],\n",
       "        [ 1.67084111],\n",
       "        [-1.56729282]],\n",
       "\n",
       "       [[ 1.21945417],\n",
       "        [-1.56908028],\n",
       "        [ 2.11356402]]])"
      ]
     },
     "execution_count": 12,
     "metadata": {},
     "output_type": "execute_result"
    }
   ],
   "source": [
    "arr"
   ]
  },
  {
   "cell_type": "code",
   "execution_count": 9,
   "metadata": {},
   "outputs": [],
   "source": [
    "arr.sort()"
   ]
  },
  {
   "cell_type": "code",
   "execution_count": 10,
   "metadata": {},
   "outputs": [
    {
     "data": {
      "text/plain": [
       "array([[[ 0.20923553,  0.70952816],\n",
       "        [-0.32102241,  1.73922663],\n",
       "        [-0.96242018, -0.73367547]],\n",
       "\n",
       "       [[ 0.90023038,  1.63484033],\n",
       "        [ 0.42140563,  0.53252498],\n",
       "        [ 0.09826708,  1.67844472]],\n",
       "\n",
       "       [[-1.12047931,  0.62748537],\n",
       "        [-0.24184041,  0.76358272],\n",
       "        [-1.49361985, -1.25855091]],\n",
       "\n",
       "       [[ 0.098137  ,  1.25542383],\n",
       "        [-0.49838114,  0.35153309],\n",
       "        [-0.40400862, -0.00575665]],\n",
       "\n",
       "       [[-1.33786078,  0.41538922],\n",
       "        [-1.35107195, -0.11465709],\n",
       "        [-0.91452608, -0.59000111]]])"
      ]
     },
     "execution_count": 10,
     "metadata": {},
     "output_type": "execute_result"
    }
   ],
   "source": [
    "arr"
   ]
  },
  {
   "cell_type": "code",
   "execution_count": 14,
   "metadata": {},
   "outputs": [],
   "source": [
    "# Unique and other set logic."
   ]
  },
  {
   "cell_type": "code",
   "execution_count": 15,
   "metadata": {},
   "outputs": [],
   "source": [
    "names = np.array(['bob','joe','will','joe','will','bob'])"
   ]
  },
  {
   "cell_type": "code",
   "execution_count": 17,
   "metadata": {},
   "outputs": [
    {
     "data": {
      "text/plain": [
       "array(['bob', 'joe', 'will', 'joe', 'will', 'bob'], dtype='<U4')"
      ]
     },
     "execution_count": 17,
     "metadata": {},
     "output_type": "execute_result"
    }
   ],
   "source": [
    "names"
   ]
  },
  {
   "cell_type": "code",
   "execution_count": 18,
   "metadata": {},
   "outputs": [
    {
     "data": {
      "text/plain": [
       "array(['bob', 'joe', 'will'], dtype='<U4')"
      ]
     },
     "execution_count": 18,
     "metadata": {},
     "output_type": "execute_result"
    }
   ],
   "source": [
    "np.unique(names) # it return the sorted unique value from an array."
   ]
  },
  {
   "cell_type": "code",
   "execution_count": 19,
   "metadata": {},
   "outputs": [],
   "source": [
    "values = np.array([6,0,0,3,2,5,6])"
   ]
  },
  {
   "cell_type": "code",
   "execution_count": 20,
   "metadata": {},
   "outputs": [
    {
     "data": {
      "text/plain": [
       "array([6, 0, 0, 3, 2, 5, 6])"
      ]
     },
     "execution_count": 20,
     "metadata": {},
     "output_type": "execute_result"
    }
   ],
   "source": [
    "\n",
    "values"
   ]
  },
  {
   "cell_type": "code",
   "execution_count": 22,
   "metadata": {},
   "outputs": [
    {
     "data": {
      "text/plain": [
       "array([ True, False, False,  True,  True, False,  True])"
      ]
     },
     "execution_count": 22,
     "metadata": {},
     "output_type": "execute_result"
    }
   ],
   "source": [
    "np.in1d(values,[2,3,6]) # it returns the boolean value by testing the membership of the values of array to the another."
   ]
  },
  {
   "cell_type": "code",
   "execution_count": 24,
   "metadata": {},
   "outputs": [],
   "source": [
    "# File Input and Output with Arrays:-"
   ]
  },
  {
   "cell_type": "code",
   "execution_count": 25,
   "metadata": {},
   "outputs": [],
   "source": [
    "arr = np.arange(10)"
   ]
  },
  {
   "cell_type": "code",
   "execution_count": 26,
   "metadata": {},
   "outputs": [
    {
     "data": {
      "text/plain": [
       "array([0, 1, 2, 3, 4, 5, 6, 7, 8, 9])"
      ]
     },
     "execution_count": 26,
     "metadata": {},
     "output_type": "execute_result"
    }
   ],
   "source": [
    "arr"
   ]
  },
  {
   "cell_type": "code",
   "execution_count": 28,
   "metadata": {},
   "outputs": [],
   "source": [
    "np.save('some_array',arr) # it saves the list on a disk,\"with extension .npy\"."
   ]
  },
  {
   "cell_type": "code",
   "execution_count": 29,
   "metadata": {},
   "outputs": [
    {
     "data": {
      "text/plain": [
       "array([0, 1, 2, 3, 4, 5, 6, 7, 8, 9])"
      ]
     },
     "execution_count": 29,
     "metadata": {},
     "output_type": "execute_result"
    }
   ],
   "source": [
    "np.load('some_array.npy') # it load the array from the disk."
   ]
  },
  {
   "cell_type": "code",
   "execution_count": 34,
   "metadata": {},
   "outputs": [],
   "source": [
    "np.savez('array_archive.npz',a= arr,b = arr) # it saves the multiple arrays in uncompressed archive."
   ]
  },
  {
   "cell_type": "code",
   "execution_count": 31,
   "metadata": {},
   "outputs": [],
   "source": [
    "arch = np.load('array_archive.npz') # it load th individual array."
   ]
  },
  {
   "cell_type": "code",
   "execution_count": 32,
   "metadata": {},
   "outputs": [
    {
     "data": {
      "text/plain": [
       "array([0, 1, 2, 3, 4, 5, 6, 7, 8, 9])"
      ]
     },
     "execution_count": 32,
     "metadata": {},
     "output_type": "execute_result"
    }
   ],
   "source": [
    "arch['b']"
   ]
  },
  {
   "cell_type": "code",
   "execution_count": 33,
   "metadata": {},
   "outputs": [
    {
     "data": {
      "text/plain": [
       "array([0, 1, 2, 3, 4, 5, 6, 7, 8, 9])"
      ]
     },
     "execution_count": 33,
     "metadata": {},
     "output_type": "execute_result"
    }
   ],
   "source": [
    "arch['a']"
   ]
  },
  {
   "cell_type": "code",
   "execution_count": 35,
   "metadata": {},
   "outputs": [],
   "source": [
    "#Linear Algebra:-"
   ]
  },
  {
   "cell_type": "code",
   "execution_count": 36,
   "metadata": {},
   "outputs": [],
   "source": [
    "x = np.array([[1,2,3],[4,5,6]])"
   ]
  },
  {
   "cell_type": "code",
   "execution_count": 37,
   "metadata": {},
   "outputs": [
    {
     "data": {
      "text/plain": [
       "array([[1, 2, 3],\n",
       "       [4, 5, 6]])"
      ]
     },
     "execution_count": 37,
     "metadata": {},
     "output_type": "execute_result"
    }
   ],
   "source": [
    "x"
   ]
  },
  {
   "cell_type": "code",
   "execution_count": 38,
   "metadata": {},
   "outputs": [],
   "source": [
    "y = np.array([[6.,23.],[-1,7],[8,9]])"
   ]
  },
  {
   "cell_type": "code",
   "execution_count": 39,
   "metadata": {},
   "outputs": [
    {
     "data": {
      "text/plain": [
       "array([[ 6., 23.],\n",
       "       [-1.,  7.],\n",
       "       [ 8.,  9.]])"
      ]
     },
     "execution_count": 39,
     "metadata": {},
     "output_type": "execute_result"
    }
   ],
   "source": [
    "y"
   ]
  },
  {
   "cell_type": "code",
   "execution_count": 40,
   "metadata": {},
   "outputs": [
    {
     "data": {
      "text/plain": [
       "array([[ 28.,  64.],\n",
       "       [ 67., 181.]])"
      ]
     },
     "execution_count": 40,
     "metadata": {},
     "output_type": "execute_result"
    }
   ],
   "source": [
    "x.dot(y)"
   ]
  },
  {
   "cell_type": "code",
   "execution_count": 41,
   "metadata": {},
   "outputs": [
    {
     "data": {
      "text/plain": [
       "array([[ 28.,  64.],\n",
       "       [ 67., 181.]])"
      ]
     },
     "execution_count": 41,
     "metadata": {},
     "output_type": "execute_result"
    }
   ],
   "source": [
    "np.dot(x,y)"
   ]
  },
  {
   "cell_type": "code",
   "execution_count": 42,
   "metadata": {},
   "outputs": [
    {
     "data": {
      "text/plain": [
       "array([ 6., 15.])"
      ]
     },
     "execution_count": 42,
     "metadata": {},
     "output_type": "execute_result"
    }
   ],
   "source": [
    "x @ np.ones(3)"
   ]
  },
  {
   "cell_type": "code",
   "execution_count": 44,
   "metadata": {},
   "outputs": [],
   "source": [
    "from numpy.linalg import inv,qr  # linalg has a standard set of matrix decomposition and things like inverse and detrminent."
   ]
  },
  {
   "cell_type": "code",
   "execution_count": 45,
   "metadata": {},
   "outputs": [],
   "source": [
    "x = np.random.randn(5,5)"
   ]
  },
  {
   "cell_type": "code",
   "execution_count": 46,
   "metadata": {},
   "outputs": [],
   "source": [
    "mat = x.T.dot(x) # it computes the dot product of x with its transpose x.T"
   ]
  },
  {
   "cell_type": "code",
   "execution_count": 47,
   "metadata": {},
   "outputs": [
    {
     "data": {
      "text/plain": [
       "array([[ 5.16730917, -4.98095561, -0.80489938, -2.20320134, -1.55080638],\n",
       "       [-4.98095561,  8.88830475,  2.13315745,  3.33011932,  1.66068461],\n",
       "       [-0.80489938,  2.13315745,  5.95471851, -1.1498566 ,  3.05772408],\n",
       "       [-2.20320134,  3.33011932, -1.1498566 ,  4.01583104,  0.06474353],\n",
       "       [-1.55080638,  1.66068461,  3.05772408,  0.06474353,  2.79285627]])"
      ]
     },
     "execution_count": 47,
     "metadata": {},
     "output_type": "execute_result"
    }
   ],
   "source": [
    "mat"
   ]
  },
  {
   "cell_type": "code",
   "execution_count": 48,
   "metadata": {},
   "outputs": [
    {
     "data": {
      "text/plain": [
       "array([[ 0.55882274,  0.30538765, -0.2382156 , -0.02115195,  0.39000945],\n",
       "       [ 0.30538765,  0.39276259, -0.26312609, -0.23719594,  0.22960945],\n",
       "       [-0.2382156 , -0.26312609,  0.62706615,  0.2778355 , -0.66879208],\n",
       "       [-0.02115195, -0.23719594,  0.2778355 ,  0.51666967, -0.18686614],\n",
       "       [ 0.39000945,  0.22960945, -0.66879208, -0.18686614,  1.17463986]])"
      ]
     },
     "execution_count": 48,
     "metadata": {},
     "output_type": "execute_result"
    }
   ],
   "source": [
    "inv(mat) # it returns the inverse of matrix mat"
   ]
  },
  {
   "cell_type": "code",
   "execution_count": 49,
   "metadata": {},
   "outputs": [
    {
     "data": {
      "text/plain": [
       "array([[ 1.00000000e+00, -1.05412695e-16, -2.63625349e-16,\n",
       "        -8.07523274e-17,  3.31640766e-16],\n",
       "       [ 3.02166460e-16,  1.00000000e+00,  3.38673319e-16,\n",
       "        -4.23718343e-17, -6.05227529e-17],\n",
       "       [ 1.22475376e-16,  2.05238130e-16,  1.00000000e+00,\n",
       "        -6.03154764e-17,  1.44092199e-16],\n",
       "       [-2.40627557e-19, -5.06495316e-17, -6.16215378e-17,\n",
       "         1.00000000e+00, -1.55231711e-16],\n",
       "       [ 2.04897246e-16,  1.88984290e-16,  8.89551250e-17,\n",
       "        -7.45126985e-17,  1.00000000e+00]])"
      ]
     },
     "execution_count": 49,
     "metadata": {},
     "output_type": "execute_result"
    }
   ],
   "source": [
    "mat.dot(inv(mat))"
   ]
  },
  {
   "cell_type": "code",
   "execution_count": 52,
   "metadata": {},
   "outputs": [],
   "source": [
    "q,r = qr(mat)  # it computes the QR decomposition"
   ]
  },
  {
   "cell_type": "code",
   "execution_count": 53,
   "metadata": {},
   "outputs": [
    {
     "data": {
      "text/plain": [
       "array([[-7.70830477, 10.59113413,  2.82628266,  4.66955708,  3.01237115],\n",
       "       [ 0.        , -3.16823085, -2.20529718, -0.67708072, -0.61769669],\n",
       "       [ 0.        ,  0.        , -6.20302616,  2.7535532 , -3.48022906],\n",
       "       [ 0.        ,  0.        ,  0.        , -1.8846206 , -0.51480767],\n",
       "       [ 0.        ,  0.        ,  0.        ,  0.        ,  0.69558448]])"
      ]
     },
     "execution_count": 53,
     "metadata": {},
     "output_type": "execute_result"
    }
   ],
   "source": [
    "r"
   ]
  },
  {
   "cell_type": "code",
   "execution_count": 54,
   "metadata": {},
   "outputs": [
    {
     "data": {
      "text/plain": [
       "array([[-0.67035611, -0.66878833,  0.06209237, -0.16091645,  0.27128452],\n",
       "       [ 0.64618042, -0.64531953,  0.17995288,  0.32881964,  0.15971277],\n",
       "       [ 0.10441977, -0.32422944, -0.79712327, -0.17931522, -0.46520139],\n",
       "       [ 0.28582177, -0.09561885,  0.34959351, -0.87752619, -0.12998119],\n",
       "       [ 0.20118644,  0.14838185, -0.45402685, -0.25254183,  0.81706125]])"
      ]
     },
     "execution_count": 54,
     "metadata": {},
     "output_type": "execute_result"
    }
   ],
   "source": [
    "q"
   ]
  },
  {
   "cell_type": "code",
   "execution_count": 55,
   "metadata": {},
   "outputs": [],
   "source": [
    "#Psuedorandom Number Generation:-"
   ]
  },
  {
   "cell_type": "code",
   "execution_count": 2,
   "metadata": {},
   "outputs": [],
   "source": [
    "samples = np.random.normal(size = (4,4))"
   ]
  },
  {
   "cell_type": "code",
   "execution_count": 3,
   "metadata": {},
   "outputs": [
    {
     "data": {
      "text/plain": [
       "array([[-0.91039118,  0.03671116,  1.08012584,  0.28956331],\n",
       "       [ 1.29145342,  1.7869566 , -1.52990693, -1.17489573],\n",
       "       [ 0.65872304, -1.03828508, -0.15857579,  2.27349597],\n",
       "       [ 0.47633702, -0.7351421 ,  0.62327723, -0.56852202]])"
      ]
     },
     "execution_count": 3,
     "metadata": {},
     "output_type": "execute_result"
    }
   ],
   "source": [
    "samples"
   ]
  },
  {
   "cell_type": "code",
   "execution_count": 4,
   "metadata": {},
   "outputs": [],
   "source": [
    "from random import normalvariate"
   ]
  },
  {
   "cell_type": "code",
   "execution_count": 5,
   "metadata": {},
   "outputs": [],
   "source": [
    "n = 1000000"
   ]
  },
  {
   "cell_type": "code",
   "execution_count": 7,
   "metadata": {},
   "outputs": [
    {
     "name": "stdout",
     "output_type": "stream",
     "text": [
      "797 ms ± 4.22 ms per loop (mean ± std. dev. of 7 runs, 1 loop each)\n"
     ]
    }
   ],
   "source": [
    "%timeit samples = [normalvariate(0,1) for _ in range(n)]"
   ]
  },
  {
   "cell_type": "code",
   "execution_count": 8,
   "metadata": {},
   "outputs": [],
   "source": [
    "np.random.seed(1234)"
   ]
  },
  {
   "cell_type": "code",
   "execution_count": 9,
   "metadata": {},
   "outputs": [],
   "source": [
    "rng = np.random.RandomState(1234)"
   ]
  },
  {
   "cell_type": "code",
   "execution_count": 10,
   "metadata": {},
   "outputs": [
    {
     "data": {
      "text/plain": [
       "array([ 0.47143516, -1.19097569,  1.43270697, -0.3126519 , -0.72058873,\n",
       "        0.88716294,  0.85958841, -0.6365235 ,  0.01569637, -2.24268495])"
      ]
     },
     "execution_count": 10,
     "metadata": {},
     "output_type": "execute_result"
    }
   ],
   "source": [
    "rng.randn(10)"
   ]
  },
  {
   "cell_type": "code",
   "execution_count": 11,
   "metadata": {},
   "outputs": [],
   "source": [
    "#Random Walks:-"
   ]
  },
  {
   "cell_type": "code",
   "execution_count": 12,
   "metadata": {},
   "outputs": [],
   "source": [
    "import random\n",
    "position = 0"
   ]
  },
  {
   "cell_type": "code",
   "execution_count": 21,
   "metadata": {},
   "outputs": [],
   "source": [
    "walk = [position]\n",
    "steps = 1000\n",
    "for i in range(steps):\n",
    "    step = 1 if random.randint(0,1) else -1\n",
    "    position += step\n",
    "    walk.append(position)"
   ]
  },
  {
   "cell_type": "code",
   "execution_count": 22,
   "metadata": {},
   "outputs": [
    {
     "data": {
      "text/plain": [
       "[1000000,\n",
       " 999999,\n",
       " 1000000,\n",
       " 999999,\n",
       " 999998,\n",
       " 999997,\n",
       " 999998,\n",
       " 999997,\n",
       " 999998,\n",
       " 999997,\n",
       " 999996,\n",
       " 999995,\n",
       " 999996,\n",
       " 999997,\n",
       " 999996,\n",
       " 999997,\n",
       " 999998,\n",
       " 999999,\n",
       " 1000000,\n",
       " 999999,\n",
       " 1000000,\n",
       " 1000001,\n",
       " 1000002,\n",
       " 1000001,\n",
       " 1000002,\n",
       " 1000001,\n",
       " 1000000,\n",
       " 999999,\n",
       " 999998,\n",
       " 999997,\n",
       " 999998,\n",
       " 999999,\n",
       " 999998,\n",
       " 999999,\n",
       " 999998,\n",
       " 999997,\n",
       " 999996,\n",
       " 999997,\n",
       " 999996,\n",
       " 999997,\n",
       " 999996,\n",
       " 999997,\n",
       " 999998,\n",
       " 999997,\n",
       " 999996,\n",
       " 999997,\n",
       " 999998,\n",
       " 999997,\n",
       " 999996,\n",
       " 999995,\n",
       " 999996,\n",
       " 999997,\n",
       " 999998,\n",
       " 999997,\n",
       " 999998,\n",
       " 999997,\n",
       " 999998,\n",
       " 999997,\n",
       " 999998,\n",
       " 999999,\n",
       " 1000000,\n",
       " 999999,\n",
       " 1000000,\n",
       " 999999,\n",
       " 1000000,\n",
       " 1000001,\n",
       " 1000000,\n",
       " 999999,\n",
       " 999998,\n",
       " 999999,\n",
       " 999998,\n",
       " 999997,\n",
       " 999998,\n",
       " 999999,\n",
       " 1000000,\n",
       " 999999,\n",
       " 999998,\n",
       " 999997,\n",
       " 999996,\n",
       " 999997,\n",
       " 999998,\n",
       " 999999,\n",
       " 1000000,\n",
       " 999999,\n",
       " 999998,\n",
       " 999999,\n",
       " 1000000,\n",
       " 1000001,\n",
       " 1000002,\n",
       " 1000003,\n",
       " 1000004,\n",
       " 1000005,\n",
       " 1000004,\n",
       " 1000005,\n",
       " 1000006,\n",
       " 1000005,\n",
       " 1000006,\n",
       " 1000007,\n",
       " 1000008,\n",
       " 1000007,\n",
       " 1000008,\n",
       " 1000009,\n",
       " 1000010,\n",
       " 1000011,\n",
       " 1000010,\n",
       " 1000009,\n",
       " 1000010,\n",
       " 1000009,\n",
       " 1000008,\n",
       " 1000007,\n",
       " 1000006,\n",
       " 1000005,\n",
       " 1000006,\n",
       " 1000007,\n",
       " 1000008,\n",
       " 1000007,\n",
       " 1000006,\n",
       " 1000007,\n",
       " 1000008,\n",
       " 1000007,\n",
       " 1000008,\n",
       " 1000007,\n",
       " 1000008,\n",
       " 1000007,\n",
       " 1000006,\n",
       " 1000005,\n",
       " 1000006,\n",
       " 1000007,\n",
       " 1000008,\n",
       " 1000009,\n",
       " 1000010,\n",
       " 1000009,\n",
       " 1000008,\n",
       " 1000007,\n",
       " 1000006,\n",
       " 1000007,\n",
       " 1000006,\n",
       " 1000005,\n",
       " 1000006,\n",
       " 1000007,\n",
       " 1000006,\n",
       " 1000007,\n",
       " 1000006,\n",
       " 1000007,\n",
       " 1000006,\n",
       " 1000005,\n",
       " 1000006,\n",
       " 1000005,\n",
       " 1000004,\n",
       " 1000005,\n",
       " 1000004,\n",
       " 1000005,\n",
       " 1000006,\n",
       " 1000005,\n",
       " 1000004,\n",
       " 1000005,\n",
       " 1000004,\n",
       " 1000005,\n",
       " 1000004,\n",
       " 1000003,\n",
       " 1000004,\n",
       " 1000005,\n",
       " 1000006,\n",
       " 1000007,\n",
       " 1000008,\n",
       " 1000007,\n",
       " 1000008,\n",
       " 1000009,\n",
       " 1000010,\n",
       " 1000009,\n",
       " 1000008,\n",
       " 1000007,\n",
       " 1000006,\n",
       " 1000005,\n",
       " 1000006,\n",
       " 1000005,\n",
       " 1000006,\n",
       " 1000007,\n",
       " 1000006,\n",
       " 1000005,\n",
       " 1000004,\n",
       " 1000003,\n",
       " 1000004,\n",
       " 1000003,\n",
       " 1000002,\n",
       " 1000003,\n",
       " 1000004,\n",
       " 1000005,\n",
       " 1000006,\n",
       " 1000005,\n",
       " 1000004,\n",
       " 1000005,\n",
       " 1000004,\n",
       " 1000003,\n",
       " 1000002,\n",
       " 1000001,\n",
       " 1000000,\n",
       " 1000001,\n",
       " 1000000,\n",
       " 999999,\n",
       " 999998,\n",
       " 999997,\n",
       " 999996,\n",
       " 999997,\n",
       " 999996,\n",
       " 999997,\n",
       " 999998,\n",
       " 999997,\n",
       " 999996,\n",
       " 999997,\n",
       " 999998,\n",
       " 999999,\n",
       " 999998,\n",
       " 999999,\n",
       " 1000000,\n",
       " 1000001,\n",
       " 1000002,\n",
       " 1000001,\n",
       " 1000000,\n",
       " 1000001,\n",
       " 1000002,\n",
       " 1000001,\n",
       " 1000002,\n",
       " 1000001,\n",
       " 1000002,\n",
       " 1000003,\n",
       " 1000004,\n",
       " 1000003,\n",
       " 1000002,\n",
       " 1000003,\n",
       " 1000002,\n",
       " 1000001,\n",
       " 1000002,\n",
       " 1000001,\n",
       " 1000002,\n",
       " 1000003,\n",
       " 1000004,\n",
       " 1000003,\n",
       " 1000004,\n",
       " 1000003,\n",
       " 1000002,\n",
       " 1000003,\n",
       " 1000004,\n",
       " 1000005,\n",
       " 1000004,\n",
       " 1000005,\n",
       " 1000004,\n",
       " 1000003,\n",
       " 1000002,\n",
       " 1000001,\n",
       " 1000000,\n",
       " 1000001,\n",
       " 1000000,\n",
       " 999999,\n",
       " 999998,\n",
       " 999997,\n",
       " 999996,\n",
       " 999995,\n",
       " 999994,\n",
       " 999995,\n",
       " 999994,\n",
       " 999995,\n",
       " 999994,\n",
       " 999995,\n",
       " 999996,\n",
       " 999995,\n",
       " 999994,\n",
       " 999993,\n",
       " 999992,\n",
       " 999991,\n",
       " 999992,\n",
       " 999993,\n",
       " 999994,\n",
       " 999995,\n",
       " 999994,\n",
       " 999993,\n",
       " 999994,\n",
       " 999995,\n",
       " 999994,\n",
       " 999995,\n",
       " 999994,\n",
       " 999995,\n",
       " 999996,\n",
       " 999997,\n",
       " 999998,\n",
       " 999997,\n",
       " 999998,\n",
       " 999997,\n",
       " 999998,\n",
       " 999997,\n",
       " 999996,\n",
       " 999995,\n",
       " 999994,\n",
       " 999993,\n",
       " 999994,\n",
       " 999995,\n",
       " 999994,\n",
       " 999993,\n",
       " 999994,\n",
       " 999995,\n",
       " 999994,\n",
       " 999993,\n",
       " 999994,\n",
       " 999993,\n",
       " 999994,\n",
       " 999995,\n",
       " 999994,\n",
       " 999995,\n",
       " 999996,\n",
       " 999997,\n",
       " 999996,\n",
       " 999997,\n",
       " 999996,\n",
       " 999995,\n",
       " 999996,\n",
       " 999997,\n",
       " 999998,\n",
       " 999997,\n",
       " 999996,\n",
       " 999995,\n",
       " 999994,\n",
       " 999995,\n",
       " 999994,\n",
       " 999993,\n",
       " 999992,\n",
       " 999993,\n",
       " 999994,\n",
       " 999993,\n",
       " 999992,\n",
       " 999991,\n",
       " 999990,\n",
       " 999989,\n",
       " 999988,\n",
       " 999987,\n",
       " 999986,\n",
       " 999987,\n",
       " 999986,\n",
       " 999985,\n",
       " 999986,\n",
       " 999985,\n",
       " 999986,\n",
       " 999987,\n",
       " 999988,\n",
       " 999989,\n",
       " 999990,\n",
       " 999991,\n",
       " 999992,\n",
       " 999991,\n",
       " 999990,\n",
       " 999989,\n",
       " 999988,\n",
       " 999987,\n",
       " 999988,\n",
       " 999987,\n",
       " 999988,\n",
       " 999989,\n",
       " 999990,\n",
       " 999989,\n",
       " 999988,\n",
       " 999987,\n",
       " 999988,\n",
       " 999987,\n",
       " 999986,\n",
       " 999985,\n",
       " 999984,\n",
       " 999985,\n",
       " 999986,\n",
       " 999987,\n",
       " 999986,\n",
       " 999987,\n",
       " 999988,\n",
       " 999989,\n",
       " 999988,\n",
       " 999989,\n",
       " 999988,\n",
       " 999987,\n",
       " 999988,\n",
       " 999989,\n",
       " 999990,\n",
       " 999991,\n",
       " 999992,\n",
       " 999993,\n",
       " 999994,\n",
       " 999995,\n",
       " 999996,\n",
       " 999997,\n",
       " 999996,\n",
       " 999995,\n",
       " 999996,\n",
       " 999997,\n",
       " 999998,\n",
       " 999997,\n",
       " 999998,\n",
       " 999997,\n",
       " 999996,\n",
       " 999997,\n",
       " 999996,\n",
       " 999997,\n",
       " 999998,\n",
       " 999997,\n",
       " 999996,\n",
       " 999997,\n",
       " 999996,\n",
       " 999995,\n",
       " 999996,\n",
       " 999997,\n",
       " 999998,\n",
       " 999999,\n",
       " 1000000,\n",
       " 1000001,\n",
       " 1000000,\n",
       " 1000001,\n",
       " 1000000,\n",
       " 1000001,\n",
       " 1000000,\n",
       " 999999,\n",
       " 999998,\n",
       " 999997,\n",
       " 999998,\n",
       " 999999,\n",
       " 999998,\n",
       " 999999,\n",
       " 999998,\n",
       " 999999,\n",
       " 1000000,\n",
       " 999999,\n",
       " 999998,\n",
       " 999997,\n",
       " 999998,\n",
       " 999999,\n",
       " 999998,\n",
       " 999999,\n",
       " 999998,\n",
       " 999999,\n",
       " 999998,\n",
       " 999997,\n",
       " 999998,\n",
       " 999997,\n",
       " 999996,\n",
       " 999997,\n",
       " 999996,\n",
       " 999997,\n",
       " 999998,\n",
       " 999999,\n",
       " 999998,\n",
       " 999997,\n",
       " 999998,\n",
       " 999999,\n",
       " 999998,\n",
       " 999997,\n",
       " 999998,\n",
       " 999997,\n",
       " 999996,\n",
       " 999997,\n",
       " 999998,\n",
       " 999997,\n",
       " 999998,\n",
       " 999999,\n",
       " 999998,\n",
       " 999997,\n",
       " 999996,\n",
       " 999995,\n",
       " 999996,\n",
       " 999997,\n",
       " 999998,\n",
       " 999999,\n",
       " 1000000,\n",
       " 999999,\n",
       " 999998,\n",
       " 999999,\n",
       " 999998,\n",
       " 999999,\n",
       " 999998,\n",
       " 999999,\n",
       " 999998,\n",
       " 999999,\n",
       " 999998,\n",
       " 999997,\n",
       " 999998,\n",
       " 999997,\n",
       " 999998,\n",
       " 999999,\n",
       " 1000000,\n",
       " 999999,\n",
       " 999998,\n",
       " 999997,\n",
       " 999998,\n",
       " 999997,\n",
       " 999998,\n",
       " 999997,\n",
       " 999998,\n",
       " 999997,\n",
       " 999996,\n",
       " 999995,\n",
       " 999996,\n",
       " 999997,\n",
       " 999998,\n",
       " 999999,\n",
       " 1000000,\n",
       " 999999,\n",
       " 1000000,\n",
       " 1000001,\n",
       " 1000000,\n",
       " 999999,\n",
       " 1000000,\n",
       " 999999,\n",
       " 999998,\n",
       " 999999,\n",
       " 1000000,\n",
       " 999999,\n",
       " 999998,\n",
       " 999997,\n",
       " 999998,\n",
       " 999997,\n",
       " 999996,\n",
       " 999997,\n",
       " 999996,\n",
       " 999995,\n",
       " 999996,\n",
       " 999997,\n",
       " 999996,\n",
       " 999995,\n",
       " 999996,\n",
       " 999995,\n",
       " 999994,\n",
       " 999993,\n",
       " 999994,\n",
       " 999995,\n",
       " 999996,\n",
       " 999997,\n",
       " 999996,\n",
       " 999995,\n",
       " 999994,\n",
       " 999993,\n",
       " 999994,\n",
       " 999995,\n",
       " 999996,\n",
       " 999995,\n",
       " 999996,\n",
       " 999995,\n",
       " 999994,\n",
       " 999995,\n",
       " 999994,\n",
       " 999993,\n",
       " 999992,\n",
       " 999993,\n",
       " 999994,\n",
       " 999995,\n",
       " 999996,\n",
       " 999997,\n",
       " 999996,\n",
       " 999995,\n",
       " 999996,\n",
       " 999995,\n",
       " 999994,\n",
       " 999995,\n",
       " 999994,\n",
       " 999995,\n",
       " 999994,\n",
       " 999995,\n",
       " 999996,\n",
       " 999997,\n",
       " 999998,\n",
       " 999997,\n",
       " 999996,\n",
       " 999997,\n",
       " 999998,\n",
       " 999997,\n",
       " 999996,\n",
       " 999995,\n",
       " 999996,\n",
       " 999995,\n",
       " 999996,\n",
       " 999997,\n",
       " 999998,\n",
       " 999997,\n",
       " 999996,\n",
       " 999997,\n",
       " 999996,\n",
       " 999997,\n",
       " 999998,\n",
       " 999999,\n",
       " 999998,\n",
       " 999997,\n",
       " 999998,\n",
       " 999999,\n",
       " 999998,\n",
       " 999997,\n",
       " 999998,\n",
       " 999997,\n",
       " 999996,\n",
       " 999995,\n",
       " 999994,\n",
       " 999993,\n",
       " 999992,\n",
       " 999991,\n",
       " 999990,\n",
       " 999991,\n",
       " 999990,\n",
       " 999989,\n",
       " 999988,\n",
       " 999989,\n",
       " 999988,\n",
       " 999987,\n",
       " 999986,\n",
       " 999985,\n",
       " 999986,\n",
       " 999987,\n",
       " 999988,\n",
       " 999987,\n",
       " 999986,\n",
       " 999987,\n",
       " 999988,\n",
       " 999987,\n",
       " 999988,\n",
       " 999989,\n",
       " 999990,\n",
       " 999991,\n",
       " 999990,\n",
       " 999989,\n",
       " 999990,\n",
       " 999989,\n",
       " 999988,\n",
       " 999987,\n",
       " 999988,\n",
       " 999989,\n",
       " 999988,\n",
       " 999989,\n",
       " 999988,\n",
       " 999989,\n",
       " 999988,\n",
       " 999987,\n",
       " 999988,\n",
       " 999987,\n",
       " 999986,\n",
       " 999987,\n",
       " 999988,\n",
       " 999987,\n",
       " 999986,\n",
       " 999987,\n",
       " 999988,\n",
       " 999989,\n",
       " 999988,\n",
       " 999987,\n",
       " 999988,\n",
       " 999989,\n",
       " 999990,\n",
       " 999991,\n",
       " 999990,\n",
       " 999989,\n",
       " 999990,\n",
       " 999989,\n",
       " 999988,\n",
       " 999987,\n",
       " 999988,\n",
       " 999989,\n",
       " 999990,\n",
       " 999989,\n",
       " 999990,\n",
       " 999991,\n",
       " 999990,\n",
       " 999989,\n",
       " 999990,\n",
       " 999991,\n",
       " 999992,\n",
       " 999993,\n",
       " 999994,\n",
       " 999995,\n",
       " 999994,\n",
       " 999995,\n",
       " 999994,\n",
       " 999993,\n",
       " 999992,\n",
       " 999993,\n",
       " 999992,\n",
       " 999991,\n",
       " 999990,\n",
       " 999991,\n",
       " 999992,\n",
       " 999993,\n",
       " 999994,\n",
       " 999995,\n",
       " 999996,\n",
       " 999997,\n",
       " 999998,\n",
       " 999997,\n",
       " 999996,\n",
       " 999997,\n",
       " 999996,\n",
       " 999995,\n",
       " 999994,\n",
       " 999995,\n",
       " 999996,\n",
       " 999995,\n",
       " 999996,\n",
       " 999995,\n",
       " 999996,\n",
       " 999995,\n",
       " 999996,\n",
       " 999995,\n",
       " 999994,\n",
       " 999993,\n",
       " 999992,\n",
       " 999993,\n",
       " 999992,\n",
       " 999991,\n",
       " 999990,\n",
       " 999989,\n",
       " 999990,\n",
       " 999989,\n",
       " 999990,\n",
       " 999989,\n",
       " 999988,\n",
       " 999989,\n",
       " 999988,\n",
       " 999987,\n",
       " 999988,\n",
       " 999989,\n",
       " 999990,\n",
       " 999991,\n",
       " 999992,\n",
       " 999991,\n",
       " 999990,\n",
       " 999989,\n",
       " 999990,\n",
       " 999989,\n",
       " 999988,\n",
       " 999987,\n",
       " 999986,\n",
       " 999985,\n",
       " 999984,\n",
       " 999985,\n",
       " 999984,\n",
       " 999983,\n",
       " 999982,\n",
       " 999983,\n",
       " 999982,\n",
       " 999981,\n",
       " 999980,\n",
       " 999981,\n",
       " 999982,\n",
       " 999983,\n",
       " 999982,\n",
       " 999981,\n",
       " 999980,\n",
       " 999979,\n",
       " 999980,\n",
       " 999981,\n",
       " 999980,\n",
       " 999981,\n",
       " 999980,\n",
       " 999981,\n",
       " 999980,\n",
       " 999981,\n",
       " 999982,\n",
       " 999981,\n",
       " 999980,\n",
       " 999979,\n",
       " 999980,\n",
       " 999979,\n",
       " 999978,\n",
       " 999979,\n",
       " 999978,\n",
       " 999979,\n",
       " 999980,\n",
       " 999979,\n",
       " 999980,\n",
       " 999979,\n",
       " 999980,\n",
       " 999979,\n",
       " 999978,\n",
       " 999977,\n",
       " 999976,\n",
       " 999975,\n",
       " 999974,\n",
       " 999975,\n",
       " 999974,\n",
       " 999973,\n",
       " 999974,\n",
       " 999975,\n",
       " 999976,\n",
       " 999975,\n",
       " 999976,\n",
       " 999977,\n",
       " 999978,\n",
       " 999977,\n",
       " 999978,\n",
       " 999977,\n",
       " 999976,\n",
       " 999975,\n",
       " 999974,\n",
       " 999975,\n",
       " 999974,\n",
       " 999973,\n",
       " 999974,\n",
       " 999973,\n",
       " 999972,\n",
       " 999973,\n",
       " 999974,\n",
       " 999975,\n",
       " 999976,\n",
       " 999977,\n",
       " 999978,\n",
       " 999979,\n",
       " 999978,\n",
       " 999979,\n",
       " 999980,\n",
       " 999981,\n",
       " 999980,\n",
       " 999981,\n",
       " 999982,\n",
       " 999983,\n",
       " 999982,\n",
       " 999983,\n",
       " 999982,\n",
       " 999983,\n",
       " 999982,\n",
       " 999981,\n",
       " 999980,\n",
       " 999979,\n",
       " 999978,\n",
       " 999977,\n",
       " 999976,\n",
       " 999977,\n",
       " 999978,\n",
       " 999977,\n",
       " 999978,\n",
       " 999979,\n",
       " 999980,\n",
       " 999979,\n",
       " 999978,\n",
       " 999979,\n",
       " 999978,\n",
       " 999977,\n",
       " 999978,\n",
       " 999977,\n",
       " 999976,\n",
       " 999975,\n",
       " 999974,\n",
       " 999973,\n",
       " 999974,\n",
       " 999973,\n",
       " 999974,\n",
       " 999975,\n",
       " 999976,\n",
       " 999977,\n",
       " 999976,\n",
       " 999975,\n",
       " 999976,\n",
       " 999975,\n",
       " 999976,\n",
       " 999975,\n",
       " 999976,\n",
       " 999975,\n",
       " 999976,\n",
       " 999977,\n",
       " 999978,\n",
       " 999977,\n",
       " 999976,\n",
       " 999975,\n",
       " 999974,\n",
       " 999975,\n",
       " 999974,\n",
       " 999975,\n",
       " 999974,\n",
       " 999973,\n",
       " 999974,\n",
       " 999973,\n",
       " 999974,\n",
       " 999973,\n",
       " 999972,\n",
       " 999971,\n",
       " 999970,\n",
       " 999971,\n",
       " 999972,\n",
       " 999971,\n",
       " 999972,\n",
       " 999973,\n",
       " 999974,\n",
       " 999975,\n",
       " 999974,\n",
       " 999975,\n",
       " 999976,\n",
       " 999977,\n",
       " 999978,\n",
       " 999977,\n",
       " 999978,\n",
       " 999977,\n",
       " 999976,\n",
       " 999977,\n",
       " 999978,\n",
       " 999979,\n",
       " 999980,\n",
       " 999979,\n",
       " 999978,\n",
       " 999977,\n",
       " 999978,\n",
       " 999977,\n",
       " 999976,\n",
       " 999977,\n",
       " 999976,\n",
       " 999975,\n",
       " 999976,\n",
       " 999975,\n",
       " 999976,\n",
       " 999977,\n",
       " 999976,\n",
       " 999975,\n",
       " 999974,\n",
       " 999975,\n",
       " 999974,\n",
       " 999975,\n",
       " 999974,\n",
       " 999975,\n",
       " 999976,\n",
       " 999977,\n",
       " 999976,\n",
       " 999977,\n",
       " 999978,\n",
       " 999979,\n",
       " 999978,\n",
       " 999979,\n",
       " 999978,\n",
       " 999977,\n",
       " 999976,\n",
       " 999977,\n",
       " 999976,\n",
       " 999975,\n",
       " 999976,\n",
       " 999977,\n",
       " 999976,\n",
       " 999975,\n",
       " 999976,\n",
       " 999975,\n",
       " 999974,\n",
       " 999973,\n",
       " 999974,\n",
       " 999973,\n",
       " 999972,\n",
       " 999971,\n",
       " 999970,\n",
       " 999971,\n",
       " 999970,\n",
       " 999971,\n",
       " 999970,\n",
       " 999969,\n",
       " 999970,\n",
       " 999971,\n",
       " 999972,\n",
       " 999973,\n",
       " 999972,\n",
       " 999971,\n",
       " 999972,\n",
       " 999973,\n",
       " 999974,\n",
       " 999975,\n",
       " 999974,\n",
       " 999973,\n",
       " 999972,\n",
       " 999971,\n",
       " 999972,\n",
       " 999971,\n",
       " 999972,\n",
       " 999973,\n",
       " 999974,\n",
       " 999973,\n",
       " 999972,\n",
       " 999971,\n",
       " 999970,\n",
       " 999971,\n",
       " 999970,\n",
       " 999969,\n",
       " 999970,\n",
       " 999971,\n",
       " 999972,\n",
       " 999973,\n",
       " 999974,\n",
       " 999975,\n",
       " 999974,\n",
       " 999975,\n",
       " 999976,\n",
       " 999977,\n",
       " 999978,\n",
       " 999979,\n",
       " 999978,\n",
       " 999977,\n",
       " 999978,\n",
       " 999977,\n",
       " 999976,\n",
       " 999975,\n",
       " 999976,\n",
       " 999977,\n",
       " 999978,\n",
       " 999979,\n",
       " 999980,\n",
       " 999981,\n",
       " 999980,\n",
       " 999981,\n",
       " 999980,\n",
       " 999981,\n",
       " ...]"
      ]
     },
     "execution_count": 22,
     "metadata": {},
     "output_type": "execute_result"
    }
   ],
   "source": [
    "walk"
   ]
  },
  {
   "cell_type": "code",
   "execution_count": 25,
   "metadata": {},
   "outputs": [
    {
     "data": {
      "text/plain": [
       "Text(0.5, 1.0, 'A Simple Random Walk')"
      ]
     },
     "execution_count": 25,
     "metadata": {},
     "output_type": "execute_result"
    },
    {
     "data": {
      "image/png": "[encoded data removed]",
      "text/plain": [
       "<Figure size 432x288 with 1 Axes>"
      ]
     },
     "metadata": {
      "needs_background": "light"
     },
     "output_type": "display_data"
    }
   ],
   "source": [
    "\n",
    "plt.plot(walk[:100])\n",
    "plt.title(\"A Simple Random Walk\")"
   ]
  },
  {
   "cell_type": "code",
   "execution_count": 26,
   "metadata": {},
   "outputs": [],
   "source": [
    "nsteps = 1000"
   ]
  },
  {
   "cell_type": "code",
   "execution_count": 27,
   "metadata": {},
   "outputs": [],
   "source": [
    "draws = np.random.randint(0,2,size=nsteps)"
   ]
  },
  {
   "cell_type": "code",
   "execution_count": 28,
   "metadata": {},
   "outputs": [],
   "source": [
    "steps = np.where(draws > 0, 1 ,-1)"
   ]
  },
  {
   "cell_type": "code",
   "execution_count": 29,
   "metadata": {},
   "outputs": [],
   "source": [
    "walk = steps.cumsum()"
   ]
  },
  {
   "cell_type": "code",
   "execution_count": 30,
   "metadata": {},
   "outputs": [
    {
     "data": {
      "text/plain": [
       "array([ 1,  2,  1,  2,  1,  0, -1,  0,  1,  2,  3,  4,  3,  2,  3,  2,  1,\n",
       "        0, -1, -2, -3, -4, -5, -6, -5, -6, -5, -4, -5, -6, -5, -6, -7, -6,\n",
       "       -7, -6, -7, -8, -9, -8, -7, -6, -7, -6, -5, -6, -5, -6, -5, -6, -5,\n",
       "       -4, -3, -2, -3, -2, -3, -2, -1, -2, -3, -2, -3, -4, -3, -2, -1, -2,\n",
       "       -3, -4, -3, -2, -1,  0,  1,  2,  3,  2,  3,  2,  3,  2,  3,  2,  1,\n",
       "        0, -1, -2, -3, -4, -5, -4, -3, -2, -3, -2, -3, -4, -3, -2, -3, -2,\n",
       "       -3, -2, -1, -2, -1, -2, -3, -4, -3, -2, -3, -4, -5, -6, -7, -6, -5,\n",
       "       -4, -3, -4, -3, -4, -3, -4, -3, -4, -3, -4, -3, -4, -3, -4, -3, -4,\n",
       "       -3, -2, -1,  0, -1,  0,  1,  2,  1,  0, -1,  0, -1,  0, -1,  0,  1,\n",
       "        0,  1,  0, -1,  0,  1,  2,  3,  2,  1,  0,  1,  0, -1, -2, -3, -4,\n",
       "       -5, -6, -5, -6, -7, -6, -5, -6, -7, -8, -7, -8, -9, -8, -7, -8, -9,\n",
       "       -8, -7, -8, -9, -8, -7, -8, -9, -8, -7, -8, -7, -8, -9, -8, -7, -6,\n",
       "       -7, -8, -7, -6, -5, -6, -7, -8, -7, -6, -7, -8, -7, -6, -5, -6, -5,\n",
       "       -4, -3, -2, -1,  0, -1, -2, -1, -2, -1,  0, -1,  0,  1,  0, -1, -2,\n",
       "       -1, -2, -1, -2, -3, -4, -5, -6, -5, -4, -3, -2, -1, -2, -1,  0,  1,\n",
       "        2,  1,  2,  3,  4,  5,  6,  5,  6,  7,  6,  7,  6,  5,  4,  3,  4,\n",
       "        5,  6,  7,  8,  7,  8,  7,  6,  5,  6,  7,  8,  7,  6,  7,  8,  9,\n",
       "        8,  7,  8,  7,  6,  7,  8,  9, 10, 11, 10, 11, 12, 11, 10, 11, 10,\n",
       "        9, 10, 11, 10, 11, 12, 11, 12, 13, 12, 11, 12, 13, 12, 13, 14, 13,\n",
       "       14, 15, 16, 15, 14, 13, 14, 15, 16, 15, 16, 17, 16, 15, 14, 15, 14,\n",
       "       13, 14, 15, 14, 13, 12, 13, 14, 15, 14, 15, 16, 15, 16, 15, 16, 17,\n",
       "       16, 17, 18, 19, 18, 17, 18, 17, 18, 19, 20, 21, 22, 23, 24, 23, 22,\n",
       "       21, 20, 21, 22, 21, 22, 23, 22, 21, 22, 21, 22, 23, 22, 21, 20, 21,\n",
       "       22, 23, 24, 25, 24, 23, 22, 21, 20, 21, 20, 21, 20, 19, 20, 19, 20,\n",
       "       19, 18, 19, 18, 17, 16, 15, 14, 13, 14, 15, 14, 13, 12, 13, 14, 13,\n",
       "       14, 13, 12, 11, 10, 11, 12, 11, 10,  9, 10,  9, 10,  9, 10, 11, 12,\n",
       "       13, 12, 13, 14, 15, 14, 13, 14, 13, 14, 13, 14, 15, 14, 15, 16, 15,\n",
       "       14, 13, 12, 13, 14, 15, 16, 15, 16, 15, 16, 15, 14, 15, 14, 15, 14,\n",
       "       15, 16, 17, 16, 15, 16, 17, 18, 17, 18, 19, 20, 19, 20, 19, 20, 21,\n",
       "       22, 21, 20, 19, 18, 17, 18, 17, 16, 15, 14, 15, 14, 15, 14, 13, 14,\n",
       "       15, 14, 13, 14, 13, 14, 13, 12, 11, 12, 11, 10, 11, 10, 11, 10,  9,\n",
       "       10, 11, 12, 11, 10,  9,  8,  9,  8,  7,  8,  9,  8,  9, 10,  9, 10,\n",
       "       11, 10,  9, 10,  9, 10, 11, 12, 13, 12, 11, 10,  9, 10, 11, 10, 11,\n",
       "       12, 13, 12, 11, 12, 11, 12, 13, 12, 11, 10, 11, 10, 11, 10,  9,  8,\n",
       "        9, 10,  9,  8,  9,  8,  9,  8,  9, 10,  9, 10,  9,  8,  7,  6,  5,\n",
       "        4,  5,  6,  5,  6,  7,  8,  7,  8,  9,  8,  7,  8,  7,  8,  9, 10,\n",
       "        9,  8,  9, 10, 11, 12, 11, 10, 11, 10, 11, 12, 13, 12, 11, 12, 13,\n",
       "       12, 11, 12, 13, 14, 15, 16, 17, 18, 17, 18, 19, 18, 17, 16, 17, 18,\n",
       "       19, 20, 21, 20, 19, 20, 21, 22, 23, 22, 23, 24, 25, 24, 23, 24, 23,\n",
       "       22, 21, 20, 21, 22, 21, 22, 23, 22, 21, 20, 19, 18, 19, 20, 21, 22,\n",
       "       21, 22, 21, 22, 23, 24, 25, 24, 25, 24, 25, 24, 23, 24, 25, 26, 25,\n",
       "       26, 27, 26, 27, 28, 29, 28, 27, 28, 29, 30, 29, 30, 29, 28, 29, 30,\n",
       "       31, 32, 31, 30, 29, 30, 29, 30, 29, 30, 31, 32, 33, 34, 33, 34, 35,\n",
       "       34, 33, 32, 31, 30, 31, 32, 33, 34, 35, 36, 35, 36, 37, 38, 39, 38,\n",
       "       37, 38, 39, 38, 39, 38, 37, 36, 37, 38, 39, 40, 39, 38, 37, 36, 35,\n",
       "       36, 35, 36, 35, 36, 37, 36, 37, 38, 37, 36, 37, 36, 37, 38, 39, 40,\n",
       "       41, 42, 43, 44, 45, 46, 47, 48, 47, 48, 47, 48, 49, 50, 49, 48, 49,\n",
       "       48, 47, 46, 45, 46, 45, 46, 45, 46, 45, 44, 43, 42, 43, 42, 43, 42,\n",
       "       43, 44, 45, 44, 43, 42, 43, 42, 41, 40, 41, 42, 41, 42, 41, 42, 43,\n",
       "       44, 43, 44, 45, 46, 47, 46, 47, 48, 49, 50, 51, 50, 51, 52, 51, 52,\n",
       "       53, 52, 53, 52, 51, 52, 51, 52, 53, 54, 55, 56, 55, 54, 53, 54, 55,\n",
       "       54, 55, 54, 55, 54, 55, 56, 57, 56, 57, 58, 57, 56, 57, 56, 57, 56,\n",
       "       57, 58, 59, 58, 57, 58, 59, 58, 59, 58, 59, 58, 59, 58, 59, 60, 59,\n",
       "       58, 57, 56, 57, 56, 55, 56, 55, 54, 53, 54, 55, 56, 57, 58, 57, 58,\n",
       "       57, 56, 55, 54, 53, 54, 55, 56, 57, 56, 55, 56, 55, 56, 55, 54, 55,\n",
       "       54, 53, 52, 51, 52, 53, 52, 51, 52, 51, 52, 51, 50, 49, 48, 49, 48,\n",
       "       49, 48, 49, 50, 51, 52, 53, 54, 55, 54, 55, 56, 55, 54, 55, 54, 53,\n",
       "       52, 51, 52, 51, 52, 53, 54, 55, 56, 55, 54, 55, 54, 53, 52, 53, 52,\n",
       "       51, 52, 51, 52, 53, 54, 55, 54, 53, 52, 53, 52, 51, 50],\n",
       "      dtype=int32)"
      ]
     },
     "execution_count": 30,
     "metadata": {},
     "output_type": "execute_result"
    }
   ],
   "source": [
    "walk"
   ]
  },
  {
   "cell_type": "code",
   "execution_count": 31,
   "metadata": {},
   "outputs": [
    {
     "data": {
      "text/plain": [
       "-9"
      ]
     },
     "execution_count": 31,
     "metadata": {},
     "output_type": "execute_result"
    }
   ],
   "source": [
    "walk.min()"
   ]
  },
  {
   "cell_type": "code",
   "execution_count": 32,
   "metadata": {},
   "outputs": [
    {
     "data": {
      "text/plain": [
       "60"
      ]
     },
     "execution_count": 32,
     "metadata": {},
     "output_type": "execute_result"
    }
   ],
   "source": [
    "walk.max()"
   ]
  },
  {
   "cell_type": "code",
   "execution_count": 33,
   "metadata": {},
   "outputs": [],
   "source": [
    "# Simulating many random walks at once:-"
   ]
  },
  {
   "cell_type": "code",
   "execution_count": 34,
   "metadata": {},
   "outputs": [],
   "source": [
    "nwalks = 5000"
   ]
  },
  {
   "cell_type": "code",
   "execution_count": 35,
   "metadata": {},
   "outputs": [],
   "source": [
    "nsteps = 1000"
   ]
  },
  {
   "cell_type": "code",
   "execution_count": 36,
   "metadata": {},
   "outputs": [],
   "source": [
    "draws = np.random.randint(0,2, size = (nwalks,nsteps))"
   ]
  },
  {
   "cell_type": "code",
   "execution_count": 37,
   "metadata": {},
   "outputs": [],
   "source": [
    "steps = np.where(draws > 0,1 ,-1)"
   ]
  },
  {
   "cell_type": "code",
   "execution_count": 40,
   "metadata": {},
   "outputs": [],
   "source": [
    "walks = steps.cumsum(1)"
   ]
  },
  {
   "cell_type": "code",
   "execution_count": 41,
   "metadata": {},
   "outputs": [
    {
     "data": {
      "text/plain": [
       "array([[  1,   2,   3, ...,  46,  47,  46],\n",
       "       [  1,   0,   1, ...,  40,  41,  42],\n",
       "       [  1,   2,   3, ..., -26, -27, -28],\n",
       "       ...,\n",
       "       [  1,   0,   1, ...,  64,  65,  66],\n",
       "       [  1,   2,   1, ...,   2,   1,   0],\n",
       "       [ -1,  -2,  -3, ...,  32,  33,  34]], dtype=int32)"
      ]
     },
     "execution_count": 41,
     "metadata": {},
     "output_type": "execute_result"
    }
   ],
   "source": [
    "walks"
   ]
  },
  {
   "cell_type": "code",
   "execution_count": 42,
   "metadata": {},
   "outputs": [
    {
     "data": {
      "text/plain": [
       "122"
      ]
     },
     "execution_count": 42,
     "metadata": {},
     "output_type": "execute_result"
    }
   ],
   "source": [
    "walks.max()"
   ]
  },
  {
   "cell_type": "code",
   "execution_count": 43,
   "metadata": {},
   "outputs": [
    {
     "data": {
      "text/plain": [
       "-128"
      ]
     },
     "execution_count": 43,
     "metadata": {},
     "output_type": "execute_result"
    }
   ],
   "source": [
    "walks.min()"
   ]
  },
  {
   "cell_type": "code",
   "execution_count": 44,
   "metadata": {},
   "outputs": [],
   "source": [
    "steps = np.random.normal(loc = 0, scale = 0.25, size = (nwalks,nsteps))"
   ]
  },
  {
   "cell_type": "code",
   "execution_count": 45,
   "metadata": {},
   "outputs": [
    {
     "data": {
      "text/plain": [
       "array([[-0.20472197, -0.03407671, -0.24781626, ...,  0.22195392,\n",
       "         0.21250584,  0.43994277],\n",
       "       [-0.09066595,  0.04741116,  0.09872352, ...,  0.10684413,\n",
       "         0.2540548 , -0.22255203],\n",
       "       [ 0.00942324,  0.03418277, -0.42305453, ..., -0.05711872,\n",
       "        -0.11820873, -0.71117832],\n",
       "       ...,\n",
       "       [ 0.1230118 , -0.18155722,  0.12782267, ...,  0.0730254 ,\n",
       "         0.06546779,  0.47920034],\n",
       "       [-0.20550269,  0.16459572, -0.03138668, ...,  0.06915243,\n",
       "         0.07831634,  0.27554056],\n",
       "       [-0.23056172,  0.28924403,  0.08444807, ..., -0.27018412,\n",
       "        -0.02140732,  0.06343304]])"
      ]
     },
     "execution_count": 45,
     "metadata": {},
     "output_type": "execute_result"
    }
   ],
   "source": [
    "steps"
   ]
  },
  {
   "cell_type": "code",
   "execution_count": 57,
   "metadata": {},
   "outputs": [
    {
     "data": {
      "text/plain": [
       "[<matplotlib.lines.Line2D at 0x28461a42b00>]"
      ]
     },
     "execution_count": 57,
     "metadata": {},
     "output_type": "execute_result"
    },
    {
     "data": {
      "image/png": "[encoded data removed]",
      "text/plain": [
       "<Figure size 432x288 with 1 Axes>"
      ]
     },
     "metadata": {
      "needs_background": "light"
     },
     "output_type": "display_data"
    }
   ],
   "source": [
    "plt.plot(steps[1])"
   ]
  },
  {
   "cell_type": "code",
   "execution_count": 58,
   "metadata": {},
   "outputs": [
    {
     "data": {
      "text/plain": [
       "-1.3468030092182088"
      ]
     },
     "execution_count": 58,
     "metadata": {},
     "output_type": "execute_result"
    }
   ],
   "source": [
    "steps.min()"
   ]
  },
  {
   "cell_type": "code",
   "execution_count": 59,
   "metadata": {},
   "outputs": [
    {
     "data": {
      "text/plain": [
       "1.39425479470652"
      ]
     },
     "execution_count": 59,
     "metadata": {},
     "output_type": "execute_result"
    }
   ],
   "source": [
    "steps.max()"
   ]
  },
  {
   "cell_type": "code",
   "execution_count": null,
   "metadata": {},
   "outputs": [],
   "source": [
    "#        COMPLETE     "
   ]
  }
 ],
 "metadata": {
  "kernelspec": {
   "display_name": "Python 3",
   "language": "python",
   "name": "python3"
  },
  "language_info": {
   "codemirror_mode": {
    "name": "ipython",
    "version": 3
   },
   "file_extension": ".py",
   "mimetype": "text/x-python",
   "name": "python",
   "nbconvert_exporter": "python",
   "pygments_lexer": "ipython3",
   "version": "3.7.1"
  }
 },
 "nbformat": 4,
 "nbformat_minor": 2
}
